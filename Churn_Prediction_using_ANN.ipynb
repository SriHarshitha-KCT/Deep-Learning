{
  "nbformat": 4,
  "nbformat_minor": 0,
  "metadata": {
    "colab": {
      "provenance": []
    },
    "kernelspec": {
      "name": "python3",
      "display_name": "Python 3"
    },
    "language_info": {
      "name": "python"
    }
  },
  "cells": [
    {
      "cell_type": "code",
      "execution_count": 425,
      "metadata": {
        "colab": {
          "base_uri": "https://localhost:8080/"
        },
        "id": "6VAwNsVg2Gna",
        "outputId": "6de8153d-8c51-4586-e939-85ba8b322ec6"
      },
      "outputs": [
        {
          "output_type": "stream",
          "name": "stdout",
          "text": [
            "Looking in indexes: https://pypi.org/simple, https://us-python.pkg.dev/colab-wheels/public/simple/\n",
            "Requirement already satisfied: pyforest in /usr/local/lib/python3.7/dist-packages (1.1.0)\n"
          ]
        }
      ],
      "source": [
        "!pip install pyforest\n",
        "import pyforest"
      ]
    },
    {
      "cell_type": "code",
      "source": [
        "dataset=pd.read_csv(\"/content/WA_Fn-UseC_-Telco-Customer-Churn.csv\")"
      ],
      "metadata": {
        "colab": {
          "base_uri": "https://localhost:8080/",
          "height": 17
        },
        "id": "ekFosOqP2tnm",
        "outputId": "42a3892c-c637-45ae-bfe7-7fb9dcc5dc45"
      },
      "execution_count": 426,
      "outputs": [
        {
          "output_type": "display_data",
          "data": {
            "text/plain": [
              "<IPython.core.display.Javascript object>"
            ],
            "application/javascript": [
              "\n",
              "        if (window._pyforest_update_imports_cell) { window._pyforest_update_imports_cell('from sklearn.model_selection import KFold\\nfrom sklearn.feature_extraction.text import TfidfVectorizer\\nimport nltk\\nfrom sklearn.ensemble import GradientBoostingRegressor\\nfrom sklearn.linear_model import ElasticNetCV\\nfrom sklearn.cluster import KMeans\\nimport bokeh\\nfrom PIL import Image\\nfrom sklearn.preprocessing import LabelEncoder\\nfrom sklearn.preprocessing import OneHotEncoder\\nfrom scipy import signal as sg\\nimport pandas as pd\\nimport matplotlib as mpl\\nfrom sklearn import svm\\nimport sys\\nfrom scipy import stats\\nimport altair as alt\\nfrom sklearn.model_selection import train_test_split\\nfrom sklearn.linear_model import ElasticNet\\nimport seaborn as sns\\nfrom sklearn.preprocessing import StandardScaler\\nimport torch\\nfrom sklearn.model_selection import cross_val_score\\nimport numpy as np\\nfrom sklearn import metrics\\nimport gensim\\nimport matplotlib.pyplot as plt\\nimport tqdm\\nimport sklearn\\nimport pydot\\nfrom sklearn.decomposition import PCA\\nfrom sklearn.ensemble import GradientBoostingClassifier\\nimport os\\nimport fastai\\nfrom statsmodels.tsa.arima_model import ARIMA\\nfrom sklearn.manifold import TSNE\\nimport xgboost as xgb\\nfrom sklearn.linear_model import LassoCV\\nimport pickle\\nimport re\\nfrom sklearn.model_selection import GridSearchCV\\nimport skimage\\nimport imutils\\nfrom sklearn.feature_extraction.text import CountVectorizer\\nimport spacy\\nfrom xlrd import open_workbook\\nfrom openpyxl import load_workbook\\nimport statistics\\nfrom sklearn.preprocessing import PolynomialFeatures\\nimport cv2\\nfrom sklearn.preprocessing import MinMaxScaler\\nfrom sklearn.linear_model import LinearRegression\\nimport plotly as py\\nfrom pathlib import Path\\nfrom sklearn.linear_model import LogisticRegression\\nimport plotly.express as px\\nimport statsmodels.api as sm\\nimport tensorflow as tf\\nfrom sklearn.linear_model import Lasso\\nimport textblob\\nimport lightgbm as lgb'); }\n",
              "    "
            ]
          },
          "metadata": {}
        }
      ]
    },
    {
      "cell_type": "code",
      "source": [
        "dataset.head()"
      ],
      "metadata": {
        "colab": {
          "base_uri": "https://localhost:8080/",
          "height": 357
        },
        "id": "auZpX0V8263f",
        "outputId": "3f552fae-7305-498d-e6dc-86bdb48d41c0"
      },
      "execution_count": 427,
      "outputs": [
        {
          "output_type": "execute_result",
          "data": {
            "text/plain": [
              "   customerID  gender  SeniorCitizen  ... MonthlyCharges TotalCharges  Churn\n",
              "0  7590-VHVEG  Female              0  ...          29.85        29.85     No\n",
              "1  5575-GNVDE    Male              0  ...          56.95       1889.5     No\n",
              "2  3668-QPYBK    Male              0  ...          53.85       108.15    Yes\n",
              "3  7795-CFOCW    Male              0  ...          42.30      1840.75     No\n",
              "4  9237-HQITU  Female              0  ...          70.70       151.65    Yes\n",
              "\n",
              "[5 rows x 21 columns]"
            ],
            "text/html": [
              "\n",
              "  <div id=\"df-73ce49cc-dffc-4d0b-97d8-38288ffb1b64\">\n",
              "    <div class=\"colab-df-container\">\n",
              "      <div>\n",
              "<style scoped>\n",
              "    .dataframe tbody tr th:only-of-type {\n",
              "        vertical-align: middle;\n",
              "    }\n",
              "\n",
              "    .dataframe tbody tr th {\n",
              "        vertical-align: top;\n",
              "    }\n",
              "\n",
              "    .dataframe thead th {\n",
              "        text-align: right;\n",
              "    }\n",
              "</style>\n",
              "<table border=\"1\" class=\"dataframe\">\n",
              "  <thead>\n",
              "    <tr style=\"text-align: right;\">\n",
              "      <th></th>\n",
              "      <th>customerID</th>\n",
              "      <th>gender</th>\n",
              "      <th>SeniorCitizen</th>\n",
              "      <th>Partner</th>\n",
              "      <th>Dependents</th>\n",
              "      <th>tenure</th>\n",
              "      <th>PhoneService</th>\n",
              "      <th>MultipleLines</th>\n",
              "      <th>InternetService</th>\n",
              "      <th>OnlineSecurity</th>\n",
              "      <th>OnlineBackup</th>\n",
              "      <th>DeviceProtection</th>\n",
              "      <th>TechSupport</th>\n",
              "      <th>StreamingTV</th>\n",
              "      <th>StreamingMovies</th>\n",
              "      <th>Contract</th>\n",
              "      <th>PaperlessBilling</th>\n",
              "      <th>PaymentMethod</th>\n",
              "      <th>MonthlyCharges</th>\n",
              "      <th>TotalCharges</th>\n",
              "      <th>Churn</th>\n",
              "    </tr>\n",
              "  </thead>\n",
              "  <tbody>\n",
              "    <tr>\n",
              "      <th>0</th>\n",
              "      <td>7590-VHVEG</td>\n",
              "      <td>Female</td>\n",
              "      <td>0</td>\n",
              "      <td>Yes</td>\n",
              "      <td>No</td>\n",
              "      <td>1</td>\n",
              "      <td>No</td>\n",
              "      <td>No phone service</td>\n",
              "      <td>DSL</td>\n",
              "      <td>No</td>\n",
              "      <td>Yes</td>\n",
              "      <td>No</td>\n",
              "      <td>No</td>\n",
              "      <td>No</td>\n",
              "      <td>No</td>\n",
              "      <td>Month-to-month</td>\n",
              "      <td>Yes</td>\n",
              "      <td>Electronic check</td>\n",
              "      <td>29.85</td>\n",
              "      <td>29.85</td>\n",
              "      <td>No</td>\n",
              "    </tr>\n",
              "    <tr>\n",
              "      <th>1</th>\n",
              "      <td>5575-GNVDE</td>\n",
              "      <td>Male</td>\n",
              "      <td>0</td>\n",
              "      <td>No</td>\n",
              "      <td>No</td>\n",
              "      <td>34</td>\n",
              "      <td>Yes</td>\n",
              "      <td>No</td>\n",
              "      <td>DSL</td>\n",
              "      <td>Yes</td>\n",
              "      <td>No</td>\n",
              "      <td>Yes</td>\n",
              "      <td>No</td>\n",
              "      <td>No</td>\n",
              "      <td>No</td>\n",
              "      <td>One year</td>\n",
              "      <td>No</td>\n",
              "      <td>Mailed check</td>\n",
              "      <td>56.95</td>\n",
              "      <td>1889.5</td>\n",
              "      <td>No</td>\n",
              "    </tr>\n",
              "    <tr>\n",
              "      <th>2</th>\n",
              "      <td>3668-QPYBK</td>\n",
              "      <td>Male</td>\n",
              "      <td>0</td>\n",
              "      <td>No</td>\n",
              "      <td>No</td>\n",
              "      <td>2</td>\n",
              "      <td>Yes</td>\n",
              "      <td>No</td>\n",
              "      <td>DSL</td>\n",
              "      <td>Yes</td>\n",
              "      <td>Yes</td>\n",
              "      <td>No</td>\n",
              "      <td>No</td>\n",
              "      <td>No</td>\n",
              "      <td>No</td>\n",
              "      <td>Month-to-month</td>\n",
              "      <td>Yes</td>\n",
              "      <td>Mailed check</td>\n",
              "      <td>53.85</td>\n",
              "      <td>108.15</td>\n",
              "      <td>Yes</td>\n",
              "    </tr>\n",
              "    <tr>\n",
              "      <th>3</th>\n",
              "      <td>7795-CFOCW</td>\n",
              "      <td>Male</td>\n",
              "      <td>0</td>\n",
              "      <td>No</td>\n",
              "      <td>No</td>\n",
              "      <td>45</td>\n",
              "      <td>No</td>\n",
              "      <td>No phone service</td>\n",
              "      <td>DSL</td>\n",
              "      <td>Yes</td>\n",
              "      <td>No</td>\n",
              "      <td>Yes</td>\n",
              "      <td>Yes</td>\n",
              "      <td>No</td>\n",
              "      <td>No</td>\n",
              "      <td>One year</td>\n",
              "      <td>No</td>\n",
              "      <td>Bank transfer (automatic)</td>\n",
              "      <td>42.30</td>\n",
              "      <td>1840.75</td>\n",
              "      <td>No</td>\n",
              "    </tr>\n",
              "    <tr>\n",
              "      <th>4</th>\n",
              "      <td>9237-HQITU</td>\n",
              "      <td>Female</td>\n",
              "      <td>0</td>\n",
              "      <td>No</td>\n",
              "      <td>No</td>\n",
              "      <td>2</td>\n",
              "      <td>Yes</td>\n",
              "      <td>No</td>\n",
              "      <td>Fiber optic</td>\n",
              "      <td>No</td>\n",
              "      <td>No</td>\n",
              "      <td>No</td>\n",
              "      <td>No</td>\n",
              "      <td>No</td>\n",
              "      <td>No</td>\n",
              "      <td>Month-to-month</td>\n",
              "      <td>Yes</td>\n",
              "      <td>Electronic check</td>\n",
              "      <td>70.70</td>\n",
              "      <td>151.65</td>\n",
              "      <td>Yes</td>\n",
              "    </tr>\n",
              "  </tbody>\n",
              "</table>\n",
              "</div>\n",
              "      <button class=\"colab-df-convert\" onclick=\"convertToInteractive('df-73ce49cc-dffc-4d0b-97d8-38288ffb1b64')\"\n",
              "              title=\"Convert this dataframe to an interactive table.\"\n",
              "              style=\"display:none;\">\n",
              "        \n",
              "  <svg xmlns=\"http://www.w3.org/2000/svg\" height=\"24px\"viewBox=\"0 0 24 24\"\n",
              "       width=\"24px\">\n",
              "    <path d=\"M0 0h24v24H0V0z\" fill=\"none\"/>\n",
              "    <path d=\"M18.56 5.44l.94 2.06.94-2.06 2.06-.94-2.06-.94-.94-2.06-.94 2.06-2.06.94zm-11 1L8.5 8.5l.94-2.06 2.06-.94-2.06-.94L8.5 2.5l-.94 2.06-2.06.94zm10 10l.94 2.06.94-2.06 2.06-.94-2.06-.94-.94-2.06-.94 2.06-2.06.94z\"/><path d=\"M17.41 7.96l-1.37-1.37c-.4-.4-.92-.59-1.43-.59-.52 0-1.04.2-1.43.59L10.3 9.45l-7.72 7.72c-.78.78-.78 2.05 0 2.83L4 21.41c.39.39.9.59 1.41.59.51 0 1.02-.2 1.41-.59l7.78-7.78 2.81-2.81c.8-.78.8-2.07 0-2.86zM5.41 20L4 18.59l7.72-7.72 1.47 1.35L5.41 20z\"/>\n",
              "  </svg>\n",
              "      </button>\n",
              "      \n",
              "  <style>\n",
              "    .colab-df-container {\n",
              "      display:flex;\n",
              "      flex-wrap:wrap;\n",
              "      gap: 12px;\n",
              "    }\n",
              "\n",
              "    .colab-df-convert {\n",
              "      background-color: #E8F0FE;\n",
              "      border: none;\n",
              "      border-radius: 50%;\n",
              "      cursor: pointer;\n",
              "      display: none;\n",
              "      fill: #1967D2;\n",
              "      height: 32px;\n",
              "      padding: 0 0 0 0;\n",
              "      width: 32px;\n",
              "    }\n",
              "\n",
              "    .colab-df-convert:hover {\n",
              "      background-color: #E2EBFA;\n",
              "      box-shadow: 0px 1px 2px rgba(60, 64, 67, 0.3), 0px 1px 3px 1px rgba(60, 64, 67, 0.15);\n",
              "      fill: #174EA6;\n",
              "    }\n",
              "\n",
              "    [theme=dark] .colab-df-convert {\n",
              "      background-color: #3B4455;\n",
              "      fill: #D2E3FC;\n",
              "    }\n",
              "\n",
              "    [theme=dark] .colab-df-convert:hover {\n",
              "      background-color: #434B5C;\n",
              "      box-shadow: 0px 1px 3px 1px rgba(0, 0, 0, 0.15);\n",
              "      filter: drop-shadow(0px 1px 2px rgba(0, 0, 0, 0.3));\n",
              "      fill: #FFFFFF;\n",
              "    }\n",
              "  </style>\n",
              "\n",
              "      <script>\n",
              "        const buttonEl =\n",
              "          document.querySelector('#df-73ce49cc-dffc-4d0b-97d8-38288ffb1b64 button.colab-df-convert');\n",
              "        buttonEl.style.display =\n",
              "          google.colab.kernel.accessAllowed ? 'block' : 'none';\n",
              "\n",
              "        async function convertToInteractive(key) {\n",
              "          const element = document.querySelector('#df-73ce49cc-dffc-4d0b-97d8-38288ffb1b64');\n",
              "          const dataTable =\n",
              "            await google.colab.kernel.invokeFunction('convertToInteractive',\n",
              "                                                     [key], {});\n",
              "          if (!dataTable) return;\n",
              "\n",
              "          const docLinkHtml = 'Like what you see? Visit the ' +\n",
              "            '<a target=\"_blank\" href=https://colab.research.google.com/notebooks/data_table.ipynb>data table notebook</a>'\n",
              "            + ' to learn more about interactive tables.';\n",
              "          element.innerHTML = '';\n",
              "          dataTable['output_type'] = 'display_data';\n",
              "          await google.colab.output.renderOutput(dataTable, element);\n",
              "          const docLink = document.createElement('div');\n",
              "          docLink.innerHTML = docLinkHtml;\n",
              "          element.appendChild(docLink);\n",
              "        }\n",
              "      </script>\n",
              "    </div>\n",
              "  </div>\n",
              "  "
            ]
          },
          "metadata": {},
          "execution_count": 427
        }
      ]
    },
    {
      "cell_type": "code",
      "source": [
        "dataset.tail(5)"
      ],
      "metadata": {
        "colab": {
          "base_uri": "https://localhost:8080/",
          "height": 357
        },
        "id": "_58UDjIh6iVz",
        "outputId": "7bdd182c-7e1e-491e-bb27-3e1d6b895078"
      },
      "execution_count": 428,
      "outputs": [
        {
          "output_type": "execute_result",
          "data": {
            "text/plain": [
              "      customerID  gender  SeniorCitizen  ... MonthlyCharges TotalCharges  Churn\n",
              "7038  6840-RESVB    Male              0  ...          84.80       1990.5     No\n",
              "7039  2234-XADUH  Female              0  ...         103.20       7362.9     No\n",
              "7040  4801-JZAZL  Female              0  ...          29.60       346.45     No\n",
              "7041  8361-LTMKD    Male              1  ...          74.40        306.6    Yes\n",
              "7042  3186-AJIEK    Male              0  ...         105.65       6844.5     No\n",
              "\n",
              "[5 rows x 21 columns]"
            ],
            "text/html": [
              "\n",
              "  <div id=\"df-15f822f9-32c1-459b-b395-63770716946f\">\n",
              "    <div class=\"colab-df-container\">\n",
              "      <div>\n",
              "<style scoped>\n",
              "    .dataframe tbody tr th:only-of-type {\n",
              "        vertical-align: middle;\n",
              "    }\n",
              "\n",
              "    .dataframe tbody tr th {\n",
              "        vertical-align: top;\n",
              "    }\n",
              "\n",
              "    .dataframe thead th {\n",
              "        text-align: right;\n",
              "    }\n",
              "</style>\n",
              "<table border=\"1\" class=\"dataframe\">\n",
              "  <thead>\n",
              "    <tr style=\"text-align: right;\">\n",
              "      <th></th>\n",
              "      <th>customerID</th>\n",
              "      <th>gender</th>\n",
              "      <th>SeniorCitizen</th>\n",
              "      <th>Partner</th>\n",
              "      <th>Dependents</th>\n",
              "      <th>tenure</th>\n",
              "      <th>PhoneService</th>\n",
              "      <th>MultipleLines</th>\n",
              "      <th>InternetService</th>\n",
              "      <th>OnlineSecurity</th>\n",
              "      <th>OnlineBackup</th>\n",
              "      <th>DeviceProtection</th>\n",
              "      <th>TechSupport</th>\n",
              "      <th>StreamingTV</th>\n",
              "      <th>StreamingMovies</th>\n",
              "      <th>Contract</th>\n",
              "      <th>PaperlessBilling</th>\n",
              "      <th>PaymentMethod</th>\n",
              "      <th>MonthlyCharges</th>\n",
              "      <th>TotalCharges</th>\n",
              "      <th>Churn</th>\n",
              "    </tr>\n",
              "  </thead>\n",
              "  <tbody>\n",
              "    <tr>\n",
              "      <th>7038</th>\n",
              "      <td>6840-RESVB</td>\n",
              "      <td>Male</td>\n",
              "      <td>0</td>\n",
              "      <td>Yes</td>\n",
              "      <td>Yes</td>\n",
              "      <td>24</td>\n",
              "      <td>Yes</td>\n",
              "      <td>Yes</td>\n",
              "      <td>DSL</td>\n",
              "      <td>Yes</td>\n",
              "      <td>No</td>\n",
              "      <td>Yes</td>\n",
              "      <td>Yes</td>\n",
              "      <td>Yes</td>\n",
              "      <td>Yes</td>\n",
              "      <td>One year</td>\n",
              "      <td>Yes</td>\n",
              "      <td>Mailed check</td>\n",
              "      <td>84.80</td>\n",
              "      <td>1990.5</td>\n",
              "      <td>No</td>\n",
              "    </tr>\n",
              "    <tr>\n",
              "      <th>7039</th>\n",
              "      <td>2234-XADUH</td>\n",
              "      <td>Female</td>\n",
              "      <td>0</td>\n",
              "      <td>Yes</td>\n",
              "      <td>Yes</td>\n",
              "      <td>72</td>\n",
              "      <td>Yes</td>\n",
              "      <td>Yes</td>\n",
              "      <td>Fiber optic</td>\n",
              "      <td>No</td>\n",
              "      <td>Yes</td>\n",
              "      <td>Yes</td>\n",
              "      <td>No</td>\n",
              "      <td>Yes</td>\n",
              "      <td>Yes</td>\n",
              "      <td>One year</td>\n",
              "      <td>Yes</td>\n",
              "      <td>Credit card (automatic)</td>\n",
              "      <td>103.20</td>\n",
              "      <td>7362.9</td>\n",
              "      <td>No</td>\n",
              "    </tr>\n",
              "    <tr>\n",
              "      <th>7040</th>\n",
              "      <td>4801-JZAZL</td>\n",
              "      <td>Female</td>\n",
              "      <td>0</td>\n",
              "      <td>Yes</td>\n",
              "      <td>Yes</td>\n",
              "      <td>11</td>\n",
              "      <td>No</td>\n",
              "      <td>No phone service</td>\n",
              "      <td>DSL</td>\n",
              "      <td>Yes</td>\n",
              "      <td>No</td>\n",
              "      <td>No</td>\n",
              "      <td>No</td>\n",
              "      <td>No</td>\n",
              "      <td>No</td>\n",
              "      <td>Month-to-month</td>\n",
              "      <td>Yes</td>\n",
              "      <td>Electronic check</td>\n",
              "      <td>29.60</td>\n",
              "      <td>346.45</td>\n",
              "      <td>No</td>\n",
              "    </tr>\n",
              "    <tr>\n",
              "      <th>7041</th>\n",
              "      <td>8361-LTMKD</td>\n",
              "      <td>Male</td>\n",
              "      <td>1</td>\n",
              "      <td>Yes</td>\n",
              "      <td>No</td>\n",
              "      <td>4</td>\n",
              "      <td>Yes</td>\n",
              "      <td>Yes</td>\n",
              "      <td>Fiber optic</td>\n",
              "      <td>No</td>\n",
              "      <td>No</td>\n",
              "      <td>No</td>\n",
              "      <td>No</td>\n",
              "      <td>No</td>\n",
              "      <td>No</td>\n",
              "      <td>Month-to-month</td>\n",
              "      <td>Yes</td>\n",
              "      <td>Mailed check</td>\n",
              "      <td>74.40</td>\n",
              "      <td>306.6</td>\n",
              "      <td>Yes</td>\n",
              "    </tr>\n",
              "    <tr>\n",
              "      <th>7042</th>\n",
              "      <td>3186-AJIEK</td>\n",
              "      <td>Male</td>\n",
              "      <td>0</td>\n",
              "      <td>No</td>\n",
              "      <td>No</td>\n",
              "      <td>66</td>\n",
              "      <td>Yes</td>\n",
              "      <td>No</td>\n",
              "      <td>Fiber optic</td>\n",
              "      <td>Yes</td>\n",
              "      <td>No</td>\n",
              "      <td>Yes</td>\n",
              "      <td>Yes</td>\n",
              "      <td>Yes</td>\n",
              "      <td>Yes</td>\n",
              "      <td>Two year</td>\n",
              "      <td>Yes</td>\n",
              "      <td>Bank transfer (automatic)</td>\n",
              "      <td>105.65</td>\n",
              "      <td>6844.5</td>\n",
              "      <td>No</td>\n",
              "    </tr>\n",
              "  </tbody>\n",
              "</table>\n",
              "</div>\n",
              "      <button class=\"colab-df-convert\" onclick=\"convertToInteractive('df-15f822f9-32c1-459b-b395-63770716946f')\"\n",
              "              title=\"Convert this dataframe to an interactive table.\"\n",
              "              style=\"display:none;\">\n",
              "        \n",
              "  <svg xmlns=\"http://www.w3.org/2000/svg\" height=\"24px\"viewBox=\"0 0 24 24\"\n",
              "       width=\"24px\">\n",
              "    <path d=\"M0 0h24v24H0V0z\" fill=\"none\"/>\n",
              "    <path d=\"M18.56 5.44l.94 2.06.94-2.06 2.06-.94-2.06-.94-.94-2.06-.94 2.06-2.06.94zm-11 1L8.5 8.5l.94-2.06 2.06-.94-2.06-.94L8.5 2.5l-.94 2.06-2.06.94zm10 10l.94 2.06.94-2.06 2.06-.94-2.06-.94-.94-2.06-.94 2.06-2.06.94z\"/><path d=\"M17.41 7.96l-1.37-1.37c-.4-.4-.92-.59-1.43-.59-.52 0-1.04.2-1.43.59L10.3 9.45l-7.72 7.72c-.78.78-.78 2.05 0 2.83L4 21.41c.39.39.9.59 1.41.59.51 0 1.02-.2 1.41-.59l7.78-7.78 2.81-2.81c.8-.78.8-2.07 0-2.86zM5.41 20L4 18.59l7.72-7.72 1.47 1.35L5.41 20z\"/>\n",
              "  </svg>\n",
              "      </button>\n",
              "      \n",
              "  <style>\n",
              "    .colab-df-container {\n",
              "      display:flex;\n",
              "      flex-wrap:wrap;\n",
              "      gap: 12px;\n",
              "    }\n",
              "\n",
              "    .colab-df-convert {\n",
              "      background-color: #E8F0FE;\n",
              "      border: none;\n",
              "      border-radius: 50%;\n",
              "      cursor: pointer;\n",
              "      display: none;\n",
              "      fill: #1967D2;\n",
              "      height: 32px;\n",
              "      padding: 0 0 0 0;\n",
              "      width: 32px;\n",
              "    }\n",
              "\n",
              "    .colab-df-convert:hover {\n",
              "      background-color: #E2EBFA;\n",
              "      box-shadow: 0px 1px 2px rgba(60, 64, 67, 0.3), 0px 1px 3px 1px rgba(60, 64, 67, 0.15);\n",
              "      fill: #174EA6;\n",
              "    }\n",
              "\n",
              "    [theme=dark] .colab-df-convert {\n",
              "      background-color: #3B4455;\n",
              "      fill: #D2E3FC;\n",
              "    }\n",
              "\n",
              "    [theme=dark] .colab-df-convert:hover {\n",
              "      background-color: #434B5C;\n",
              "      box-shadow: 0px 1px 3px 1px rgba(0, 0, 0, 0.15);\n",
              "      filter: drop-shadow(0px 1px 2px rgba(0, 0, 0, 0.3));\n",
              "      fill: #FFFFFF;\n",
              "    }\n",
              "  </style>\n",
              "\n",
              "      <script>\n",
              "        const buttonEl =\n",
              "          document.querySelector('#df-15f822f9-32c1-459b-b395-63770716946f button.colab-df-convert');\n",
              "        buttonEl.style.display =\n",
              "          google.colab.kernel.accessAllowed ? 'block' : 'none';\n",
              "\n",
              "        async function convertToInteractive(key) {\n",
              "          const element = document.querySelector('#df-15f822f9-32c1-459b-b395-63770716946f');\n",
              "          const dataTable =\n",
              "            await google.colab.kernel.invokeFunction('convertToInteractive',\n",
              "                                                     [key], {});\n",
              "          if (!dataTable) return;\n",
              "\n",
              "          const docLinkHtml = 'Like what you see? Visit the ' +\n",
              "            '<a target=\"_blank\" href=https://colab.research.google.com/notebooks/data_table.ipynb>data table notebook</a>'\n",
              "            + ' to learn more about interactive tables.';\n",
              "          element.innerHTML = '';\n",
              "          dataTable['output_type'] = 'display_data';\n",
              "          await google.colab.output.renderOutput(dataTable, element);\n",
              "          const docLink = document.createElement('div');\n",
              "          docLink.innerHTML = docLinkHtml;\n",
              "          element.appendChild(docLink);\n",
              "        }\n",
              "      </script>\n",
              "    </div>\n",
              "  </div>\n",
              "  "
            ]
          },
          "metadata": {},
          "execution_count": 428
        }
      ]
    },
    {
      "cell_type": "code",
      "source": [
        "dataset.columns"
      ],
      "metadata": {
        "colab": {
          "base_uri": "https://localhost:8080/"
        },
        "id": "XqVAoDiG29OS",
        "outputId": "029c3760-77c7-45aa-d9a9-246c86560f8d"
      },
      "execution_count": 429,
      "outputs": [
        {
          "output_type": "execute_result",
          "data": {
            "text/plain": [
              "Index(['customerID', 'gender', 'SeniorCitizen', 'Partner', 'Dependents',\n",
              "       'tenure', 'PhoneService', 'MultipleLines', 'InternetService',\n",
              "       'OnlineSecurity', 'OnlineBackup', 'DeviceProtection', 'TechSupport',\n",
              "       'StreamingTV', 'StreamingMovies', 'Contract', 'PaperlessBilling',\n",
              "       'PaymentMethod', 'MonthlyCharges', 'TotalCharges', 'Churn'],\n",
              "      dtype='object')"
            ]
          },
          "metadata": {},
          "execution_count": 429
        }
      ]
    },
    {
      "cell_type": "code",
      "source": [
        "dataset.shape"
      ],
      "metadata": {
        "colab": {
          "base_uri": "https://localhost:8080/"
        },
        "id": "7z465ZyZ2-Ki",
        "outputId": "13a5d52c-5975-4f04-f82e-07710c78908b"
      },
      "execution_count": 430,
      "outputs": [
        {
          "output_type": "execute_result",
          "data": {
            "text/plain": [
              "(7043, 21)"
            ]
          },
          "metadata": {},
          "execution_count": 430
        }
      ]
    },
    {
      "cell_type": "code",
      "source": [
        "dataset.info()"
      ],
      "metadata": {
        "colab": {
          "base_uri": "https://localhost:8080/"
        },
        "id": "8RKPq6EB2_IP",
        "outputId": "13fd0996-7341-4548-a88b-1f6ae47e04a2"
      },
      "execution_count": 431,
      "outputs": [
        {
          "output_type": "stream",
          "name": "stdout",
          "text": [
            "<class 'pandas.core.frame.DataFrame'>\n",
            "RangeIndex: 7043 entries, 0 to 7042\n",
            "Data columns (total 21 columns):\n",
            " #   Column            Non-Null Count  Dtype  \n",
            "---  ------            --------------  -----  \n",
            " 0   customerID        7043 non-null   object \n",
            " 1   gender            7043 non-null   object \n",
            " 2   SeniorCitizen     7043 non-null   int64  \n",
            " 3   Partner           7043 non-null   object \n",
            " 4   Dependents        7043 non-null   object \n",
            " 5   tenure            7043 non-null   int64  \n",
            " 6   PhoneService      7043 non-null   object \n",
            " 7   MultipleLines     7043 non-null   object \n",
            " 8   InternetService   7043 non-null   object \n",
            " 9   OnlineSecurity    7043 non-null   object \n",
            " 10  OnlineBackup      7043 non-null   object \n",
            " 11  DeviceProtection  7043 non-null   object \n",
            " 12  TechSupport       7043 non-null   object \n",
            " 13  StreamingTV       7043 non-null   object \n",
            " 14  StreamingMovies   7043 non-null   object \n",
            " 15  Contract          7043 non-null   object \n",
            " 16  PaperlessBilling  7043 non-null   object \n",
            " 17  PaymentMethod     7043 non-null   object \n",
            " 18  MonthlyCharges    7043 non-null   float64\n",
            " 19  TotalCharges      7043 non-null   object \n",
            " 20  Churn             7043 non-null   object \n",
            "dtypes: float64(1), int64(2), object(18)\n",
            "memory usage: 1.1+ MB\n"
          ]
        }
      ]
    },
    {
      "cell_type": "code",
      "source": [
        "dataset.describe()"
      ],
      "metadata": {
        "colab": {
          "base_uri": "https://localhost:8080/",
          "height": 300
        },
        "id": "8-nDVRdb3ABc",
        "outputId": "b73b4f51-78a0-407d-811d-fe7f94f5f3e9"
      },
      "execution_count": 432,
      "outputs": [
        {
          "output_type": "execute_result",
          "data": {
            "text/plain": [
              "       SeniorCitizen       tenure  MonthlyCharges\n",
              "count    7043.000000  7043.000000     7043.000000\n",
              "mean        0.162147    32.371149       64.761692\n",
              "std         0.368612    24.559481       30.090047\n",
              "min         0.000000     0.000000       18.250000\n",
              "25%         0.000000     9.000000       35.500000\n",
              "50%         0.000000    29.000000       70.350000\n",
              "75%         0.000000    55.000000       89.850000\n",
              "max         1.000000    72.000000      118.750000"
            ],
            "text/html": [
              "\n",
              "  <div id=\"df-6426480c-823b-4a66-ace8-5449d8c8ff01\">\n",
              "    <div class=\"colab-df-container\">\n",
              "      <div>\n",
              "<style scoped>\n",
              "    .dataframe tbody tr th:only-of-type {\n",
              "        vertical-align: middle;\n",
              "    }\n",
              "\n",
              "    .dataframe tbody tr th {\n",
              "        vertical-align: top;\n",
              "    }\n",
              "\n",
              "    .dataframe thead th {\n",
              "        text-align: right;\n",
              "    }\n",
              "</style>\n",
              "<table border=\"1\" class=\"dataframe\">\n",
              "  <thead>\n",
              "    <tr style=\"text-align: right;\">\n",
              "      <th></th>\n",
              "      <th>SeniorCitizen</th>\n",
              "      <th>tenure</th>\n",
              "      <th>MonthlyCharges</th>\n",
              "    </tr>\n",
              "  </thead>\n",
              "  <tbody>\n",
              "    <tr>\n",
              "      <th>count</th>\n",
              "      <td>7043.000000</td>\n",
              "      <td>7043.000000</td>\n",
              "      <td>7043.000000</td>\n",
              "    </tr>\n",
              "    <tr>\n",
              "      <th>mean</th>\n",
              "      <td>0.162147</td>\n",
              "      <td>32.371149</td>\n",
              "      <td>64.761692</td>\n",
              "    </tr>\n",
              "    <tr>\n",
              "      <th>std</th>\n",
              "      <td>0.368612</td>\n",
              "      <td>24.559481</td>\n",
              "      <td>30.090047</td>\n",
              "    </tr>\n",
              "    <tr>\n",
              "      <th>min</th>\n",
              "      <td>0.000000</td>\n",
              "      <td>0.000000</td>\n",
              "      <td>18.250000</td>\n",
              "    </tr>\n",
              "    <tr>\n",
              "      <th>25%</th>\n",
              "      <td>0.000000</td>\n",
              "      <td>9.000000</td>\n",
              "      <td>35.500000</td>\n",
              "    </tr>\n",
              "    <tr>\n",
              "      <th>50%</th>\n",
              "      <td>0.000000</td>\n",
              "      <td>29.000000</td>\n",
              "      <td>70.350000</td>\n",
              "    </tr>\n",
              "    <tr>\n",
              "      <th>75%</th>\n",
              "      <td>0.000000</td>\n",
              "      <td>55.000000</td>\n",
              "      <td>89.850000</td>\n",
              "    </tr>\n",
              "    <tr>\n",
              "      <th>max</th>\n",
              "      <td>1.000000</td>\n",
              "      <td>72.000000</td>\n",
              "      <td>118.750000</td>\n",
              "    </tr>\n",
              "  </tbody>\n",
              "</table>\n",
              "</div>\n",
              "      <button class=\"colab-df-convert\" onclick=\"convertToInteractive('df-6426480c-823b-4a66-ace8-5449d8c8ff01')\"\n",
              "              title=\"Convert this dataframe to an interactive table.\"\n",
              "              style=\"display:none;\">\n",
              "        \n",
              "  <svg xmlns=\"http://www.w3.org/2000/svg\" height=\"24px\"viewBox=\"0 0 24 24\"\n",
              "       width=\"24px\">\n",
              "    <path d=\"M0 0h24v24H0V0z\" fill=\"none\"/>\n",
              "    <path d=\"M18.56 5.44l.94 2.06.94-2.06 2.06-.94-2.06-.94-.94-2.06-.94 2.06-2.06.94zm-11 1L8.5 8.5l.94-2.06 2.06-.94-2.06-.94L8.5 2.5l-.94 2.06-2.06.94zm10 10l.94 2.06.94-2.06 2.06-.94-2.06-.94-.94-2.06-.94 2.06-2.06.94z\"/><path d=\"M17.41 7.96l-1.37-1.37c-.4-.4-.92-.59-1.43-.59-.52 0-1.04.2-1.43.59L10.3 9.45l-7.72 7.72c-.78.78-.78 2.05 0 2.83L4 21.41c.39.39.9.59 1.41.59.51 0 1.02-.2 1.41-.59l7.78-7.78 2.81-2.81c.8-.78.8-2.07 0-2.86zM5.41 20L4 18.59l7.72-7.72 1.47 1.35L5.41 20z\"/>\n",
              "  </svg>\n",
              "      </button>\n",
              "      \n",
              "  <style>\n",
              "    .colab-df-container {\n",
              "      display:flex;\n",
              "      flex-wrap:wrap;\n",
              "      gap: 12px;\n",
              "    }\n",
              "\n",
              "    .colab-df-convert {\n",
              "      background-color: #E8F0FE;\n",
              "      border: none;\n",
              "      border-radius: 50%;\n",
              "      cursor: pointer;\n",
              "      display: none;\n",
              "      fill: #1967D2;\n",
              "      height: 32px;\n",
              "      padding: 0 0 0 0;\n",
              "      width: 32px;\n",
              "    }\n",
              "\n",
              "    .colab-df-convert:hover {\n",
              "      background-color: #E2EBFA;\n",
              "      box-shadow: 0px 1px 2px rgba(60, 64, 67, 0.3), 0px 1px 3px 1px rgba(60, 64, 67, 0.15);\n",
              "      fill: #174EA6;\n",
              "    }\n",
              "\n",
              "    [theme=dark] .colab-df-convert {\n",
              "      background-color: #3B4455;\n",
              "      fill: #D2E3FC;\n",
              "    }\n",
              "\n",
              "    [theme=dark] .colab-df-convert:hover {\n",
              "      background-color: #434B5C;\n",
              "      box-shadow: 0px 1px 3px 1px rgba(0, 0, 0, 0.15);\n",
              "      filter: drop-shadow(0px 1px 2px rgba(0, 0, 0, 0.3));\n",
              "      fill: #FFFFFF;\n",
              "    }\n",
              "  </style>\n",
              "\n",
              "      <script>\n",
              "        const buttonEl =\n",
              "          document.querySelector('#df-6426480c-823b-4a66-ace8-5449d8c8ff01 button.colab-df-convert');\n",
              "        buttonEl.style.display =\n",
              "          google.colab.kernel.accessAllowed ? 'block' : 'none';\n",
              "\n",
              "        async function convertToInteractive(key) {\n",
              "          const element = document.querySelector('#df-6426480c-823b-4a66-ace8-5449d8c8ff01');\n",
              "          const dataTable =\n",
              "            await google.colab.kernel.invokeFunction('convertToInteractive',\n",
              "                                                     [key], {});\n",
              "          if (!dataTable) return;\n",
              "\n",
              "          const docLinkHtml = 'Like what you see? Visit the ' +\n",
              "            '<a target=\"_blank\" href=https://colab.research.google.com/notebooks/data_table.ipynb>data table notebook</a>'\n",
              "            + ' to learn more about interactive tables.';\n",
              "          element.innerHTML = '';\n",
              "          dataTable['output_type'] = 'display_data';\n",
              "          await google.colab.output.renderOutput(dataTable, element);\n",
              "          const docLink = document.createElement('div');\n",
              "          docLink.innerHTML = docLinkHtml;\n",
              "          element.appendChild(docLink);\n",
              "        }\n",
              "      </script>\n",
              "    </div>\n",
              "  </div>\n",
              "  "
            ]
          },
          "metadata": {},
          "execution_count": 432
        }
      ]
    },
    {
      "cell_type": "code",
      "source": [
        "dataset.drop([\"customerID\"],axis=1,inplace=True)"
      ],
      "metadata": {
        "id": "siU_mRsv3Bhu"
      },
      "execution_count": 433,
      "outputs": []
    },
    {
      "cell_type": "code",
      "source": [
        "dataset.isnull().sum()"
      ],
      "metadata": {
        "colab": {
          "base_uri": "https://localhost:8080/"
        },
        "id": "OfquvKvJ3Qmu",
        "outputId": "b47b6d4e-76fd-4608-81f7-3271c5eda25d"
      },
      "execution_count": 434,
      "outputs": [
        {
          "output_type": "execute_result",
          "data": {
            "text/plain": [
              "gender              0\n",
              "SeniorCitizen       0\n",
              "Partner             0\n",
              "Dependents          0\n",
              "tenure              0\n",
              "PhoneService        0\n",
              "MultipleLines       0\n",
              "InternetService     0\n",
              "OnlineSecurity      0\n",
              "OnlineBackup        0\n",
              "DeviceProtection    0\n",
              "TechSupport         0\n",
              "StreamingTV         0\n",
              "StreamingMovies     0\n",
              "Contract            0\n",
              "PaperlessBilling    0\n",
              "PaymentMethod       0\n",
              "MonthlyCharges      0\n",
              "TotalCharges        0\n",
              "Churn               0\n",
              "dtype: int64"
            ]
          },
          "metadata": {},
          "execution_count": 434
        }
      ]
    },
    {
      "cell_type": "code",
      "source": [
        "discrete=[feature for feature in dataset.columns if dataset.columns.dtype==\"O\"]"
      ],
      "metadata": {
        "id": "SOsBJ4dm3Yd0"
      },
      "execution_count": 435,
      "outputs": []
    },
    {
      "cell_type": "code",
      "source": [
        "discrete"
      ],
      "metadata": {
        "colab": {
          "base_uri": "https://localhost:8080/"
        },
        "id": "Je9XRkR73hwO",
        "outputId": "6fb459a2-8542-4a13-e473-61814892485c"
      },
      "execution_count": 436,
      "outputs": [
        {
          "output_type": "execute_result",
          "data": {
            "text/plain": [
              "['gender',\n",
              " 'SeniorCitizen',\n",
              " 'Partner',\n",
              " 'Dependents',\n",
              " 'tenure',\n",
              " 'PhoneService',\n",
              " 'MultipleLines',\n",
              " 'InternetService',\n",
              " 'OnlineSecurity',\n",
              " 'OnlineBackup',\n",
              " 'DeviceProtection',\n",
              " 'TechSupport',\n",
              " 'StreamingTV',\n",
              " 'StreamingMovies',\n",
              " 'Contract',\n",
              " 'PaperlessBilling',\n",
              " 'PaymentMethod',\n",
              " 'MonthlyCharges',\n",
              " 'TotalCharges',\n",
              " 'Churn']"
            ]
          },
          "metadata": {},
          "execution_count": 436
        }
      ]
    },
    {
      "cell_type": "code",
      "source": [
        "for i in discrete:\n",
        "  print(\"Value counts of\", i)\n",
        "  valuecount=dataset[i].value_counts().sort_values(ascending=False)\n",
        "  print(valuecount,\"\")"
      ],
      "metadata": {
        "colab": {
          "base_uri": "https://localhost:8080/"
        },
        "id": "ZpvEcheY3kZ4",
        "outputId": "dd2c49c5-7983-48bd-bd24-a6fdd7be63b1"
      },
      "execution_count": 437,
      "outputs": [
        {
          "output_type": "stream",
          "name": "stdout",
          "text": [
            "Value counts of gender\n",
            "Male      3555\n",
            "Female    3488\n",
            "Name: gender, dtype: int64 \n",
            "Value counts of SeniorCitizen\n",
            "0    5901\n",
            "1    1142\n",
            "Name: SeniorCitizen, dtype: int64 \n",
            "Value counts of Partner\n",
            "No     3641\n",
            "Yes    3402\n",
            "Name: Partner, dtype: int64 \n",
            "Value counts of Dependents\n",
            "No     4933\n",
            "Yes    2110\n",
            "Name: Dependents, dtype: int64 \n",
            "Value counts of tenure\n",
            "1     613\n",
            "72    362\n",
            "2     238\n",
            "3     200\n",
            "4     176\n",
            "     ... \n",
            "28     57\n",
            "39     56\n",
            "44     51\n",
            "36     50\n",
            "0      11\n",
            "Name: tenure, Length: 73, dtype: int64 \n",
            "Value counts of PhoneService\n",
            "Yes    6361\n",
            "No      682\n",
            "Name: PhoneService, dtype: int64 \n",
            "Value counts of MultipleLines\n",
            "No                  3390\n",
            "Yes                 2971\n",
            "No phone service     682\n",
            "Name: MultipleLines, dtype: int64 \n",
            "Value counts of InternetService\n",
            "Fiber optic    3096\n",
            "DSL            2421\n",
            "No             1526\n",
            "Name: InternetService, dtype: int64 \n",
            "Value counts of OnlineSecurity\n",
            "No                     3498\n",
            "Yes                    2019\n",
            "No internet service    1526\n",
            "Name: OnlineSecurity, dtype: int64 \n",
            "Value counts of OnlineBackup\n",
            "No                     3088\n",
            "Yes                    2429\n",
            "No internet service    1526\n",
            "Name: OnlineBackup, dtype: int64 \n",
            "Value counts of DeviceProtection\n",
            "No                     3095\n",
            "Yes                    2422\n",
            "No internet service    1526\n",
            "Name: DeviceProtection, dtype: int64 \n",
            "Value counts of TechSupport\n",
            "No                     3473\n",
            "Yes                    2044\n",
            "No internet service    1526\n",
            "Name: TechSupport, dtype: int64 \n",
            "Value counts of StreamingTV\n",
            "No                     2810\n",
            "Yes                    2707\n",
            "No internet service    1526\n",
            "Name: StreamingTV, dtype: int64 \n",
            "Value counts of StreamingMovies\n",
            "No                     2785\n",
            "Yes                    2732\n",
            "No internet service    1526\n",
            "Name: StreamingMovies, dtype: int64 \n",
            "Value counts of Contract\n",
            "Month-to-month    3875\n",
            "Two year          1695\n",
            "One year          1473\n",
            "Name: Contract, dtype: int64 \n",
            "Value counts of PaperlessBilling\n",
            "Yes    4171\n",
            "No     2872\n",
            "Name: PaperlessBilling, dtype: int64 \n",
            "Value counts of PaymentMethod\n",
            "Electronic check             2365\n",
            "Mailed check                 1612\n",
            "Bank transfer (automatic)    1544\n",
            "Credit card (automatic)      1522\n",
            "Name: PaymentMethod, dtype: int64 \n",
            "Value counts of MonthlyCharges\n",
            "20.05    61\n",
            "19.85    45\n",
            "19.95    44\n",
            "19.90    44\n",
            "20.00    43\n",
            "         ..\n",
            "82.40     1\n",
            "56.00     1\n",
            "26.50     1\n",
            "40.90     1\n",
            "78.70     1\n",
            "Name: MonthlyCharges, Length: 1585, dtype: int64 \n",
            "Value counts of TotalCharges\n",
            "           11\n",
            "20.2       11\n",
            "19.75       9\n",
            "20.05       8\n",
            "19.9        8\n",
            "           ..\n",
            "3886.45     1\n",
            "1224.05     1\n",
            "2310.2      1\n",
            "723.4       1\n",
            "6844.5      1\n",
            "Name: TotalCharges, Length: 6531, dtype: int64 \n",
            "Value counts of Churn\n",
            "No     5174\n",
            "Yes    1869\n",
            "Name: Churn, dtype: int64 \n"
          ]
        }
      ]
    },
    {
      "cell_type": "code",
      "source": [
        "binary=['Partner','Dependents','PhoneService','MultipleLines','PaperlessBilling', 'OnlineSecurity','OnlineBackup','StreamingTV',\n",
        " 'StreamingMovies','DeviceProtection','TechSupport','Churn']"
      ],
      "metadata": {
        "id": "zxilqRw-4z0j"
      },
      "execution_count": 438,
      "outputs": []
    },
    {
      "cell_type": "code",
      "source": [
        "for i in binary:\n",
        "  dataset[i]=np.where(dataset[i].values==\"Yes\",1,0)"
      ],
      "metadata": {
        "colab": {
          "base_uri": "https://localhost:8080/",
          "height": 17
        },
        "id": "cKVb7QgM34jg",
        "outputId": "b3b9984e-3b80-446d-da05-875de7f86a9d"
      },
      "execution_count": 439,
      "outputs": [
        {
          "output_type": "display_data",
          "data": {
            "text/plain": [
              "<IPython.core.display.Javascript object>"
            ],
            "application/javascript": [
              "\n",
              "        if (window._pyforest_update_imports_cell) { window._pyforest_update_imports_cell('from sklearn.model_selection import KFold\\nfrom sklearn.feature_extraction.text import TfidfVectorizer\\nimport nltk\\nfrom sklearn.ensemble import GradientBoostingRegressor\\nfrom sklearn.linear_model import ElasticNetCV\\nfrom sklearn.cluster import KMeans\\nimport bokeh\\nfrom PIL import Image\\nfrom sklearn.preprocessing import LabelEncoder\\nfrom sklearn.preprocessing import OneHotEncoder\\nfrom scipy import signal as sg\\nimport pandas as pd\\nimport matplotlib as mpl\\nfrom sklearn import svm\\nimport sys\\nfrom scipy import stats\\nimport altair as alt\\nfrom sklearn.model_selection import train_test_split\\nfrom sklearn.linear_model import ElasticNet\\nimport seaborn as sns\\nfrom sklearn.preprocessing import StandardScaler\\nimport torch\\nfrom sklearn.model_selection import cross_val_score\\nimport numpy as np\\nfrom sklearn import metrics\\nimport gensim\\nimport matplotlib.pyplot as plt\\nimport tqdm\\nimport sklearn\\nimport pydot\\nfrom sklearn.decomposition import PCA\\nfrom sklearn.ensemble import GradientBoostingClassifier\\nimport os\\nimport fastai\\nfrom statsmodels.tsa.arima_model import ARIMA\\nfrom sklearn.manifold import TSNE\\nimport xgboost as xgb\\nfrom sklearn.linear_model import LassoCV\\nimport pickle\\nimport re\\nfrom sklearn.model_selection import GridSearchCV\\nimport skimage\\nimport imutils\\nfrom sklearn.feature_extraction.text import CountVectorizer\\nimport spacy\\nfrom xlrd import open_workbook\\nfrom openpyxl import load_workbook\\nimport statistics\\nfrom sklearn.preprocessing import PolynomialFeatures\\nimport cv2\\nfrom sklearn.preprocessing import MinMaxScaler\\nfrom sklearn.linear_model import LinearRegression\\nimport plotly as py\\nfrom pathlib import Path\\nfrom sklearn.linear_model import LogisticRegression\\nimport plotly.express as px\\nimport statsmodels.api as sm\\nimport tensorflow as tf\\nfrom sklearn.linear_model import Lasso\\nimport textblob\\nimport lightgbm as lgb'); }\n",
              "    "
            ]
          },
          "metadata": {}
        },
        {
          "output_type": "display_data",
          "data": {
            "text/plain": [
              "<IPython.core.display.Javascript object>"
            ],
            "application/javascript": [
              "\n",
              "        if (window._pyforest_update_imports_cell) { window._pyforest_update_imports_cell('from sklearn.model_selection import KFold\\nfrom sklearn.feature_extraction.text import TfidfVectorizer\\nimport nltk\\nfrom sklearn.ensemble import GradientBoostingRegressor\\nfrom sklearn.linear_model import ElasticNetCV\\nfrom sklearn.cluster import KMeans\\nimport bokeh\\nfrom PIL import Image\\nfrom sklearn.preprocessing import LabelEncoder\\nfrom sklearn.preprocessing import OneHotEncoder\\nfrom scipy import signal as sg\\nimport pandas as pd\\nimport matplotlib as mpl\\nfrom sklearn import svm\\nimport sys\\nfrom scipy import stats\\nimport altair as alt\\nfrom sklearn.model_selection import train_test_split\\nfrom sklearn.linear_model import ElasticNet\\nimport seaborn as sns\\nfrom sklearn.preprocessing import StandardScaler\\nimport torch\\nfrom sklearn.model_selection import cross_val_score\\nimport numpy as np\\nfrom sklearn import metrics\\nimport gensim\\nimport matplotlib.pyplot as plt\\nimport tqdm\\nimport sklearn\\nimport pydot\\nfrom sklearn.decomposition import PCA\\nfrom sklearn.ensemble import GradientBoostingClassifier\\nimport os\\nimport fastai\\nfrom statsmodels.tsa.arima_model import ARIMA\\nfrom sklearn.manifold import TSNE\\nimport xgboost as xgb\\nfrom sklearn.linear_model import LassoCV\\nimport pickle\\nimport re\\nfrom sklearn.model_selection import GridSearchCV\\nimport skimage\\nimport imutils\\nfrom sklearn.feature_extraction.text import CountVectorizer\\nimport spacy\\nfrom xlrd import open_workbook\\nfrom openpyxl import load_workbook\\nimport statistics\\nfrom sklearn.preprocessing import PolynomialFeatures\\nimport cv2\\nfrom sklearn.preprocessing import MinMaxScaler\\nfrom sklearn.linear_model import LinearRegression\\nimport plotly as py\\nfrom pathlib import Path\\nfrom sklearn.linear_model import LogisticRegression\\nimport plotly.express as px\\nimport statsmodels.api as sm\\nimport tensorflow as tf\\nfrom sklearn.linear_model import Lasso\\nimport textblob\\nimport lightgbm as lgb'); }\n",
              "    "
            ]
          },
          "metadata": {}
        },
        {
          "output_type": "display_data",
          "data": {
            "text/plain": [
              "<IPython.core.display.Javascript object>"
            ],
            "application/javascript": [
              "\n",
              "        if (window._pyforest_update_imports_cell) { window._pyforest_update_imports_cell('from sklearn.model_selection import KFold\\nfrom sklearn.feature_extraction.text import TfidfVectorizer\\nimport nltk\\nfrom sklearn.ensemble import GradientBoostingRegressor\\nfrom sklearn.linear_model import ElasticNetCV\\nfrom sklearn.cluster import KMeans\\nimport bokeh\\nfrom PIL import Image\\nfrom sklearn.preprocessing import LabelEncoder\\nfrom sklearn.preprocessing import OneHotEncoder\\nfrom scipy import signal as sg\\nimport pandas as pd\\nimport matplotlib as mpl\\nfrom sklearn import svm\\nimport sys\\nfrom scipy import stats\\nimport altair as alt\\nfrom sklearn.model_selection import train_test_split\\nfrom sklearn.linear_model import ElasticNet\\nimport seaborn as sns\\nfrom sklearn.preprocessing import StandardScaler\\nimport torch\\nfrom sklearn.model_selection import cross_val_score\\nimport numpy as np\\nfrom sklearn import metrics\\nimport gensim\\nimport matplotlib.pyplot as plt\\nimport tqdm\\nimport sklearn\\nimport pydot\\nfrom sklearn.decomposition import PCA\\nfrom sklearn.ensemble import GradientBoostingClassifier\\nimport os\\nimport fastai\\nfrom statsmodels.tsa.arima_model import ARIMA\\nfrom sklearn.manifold import TSNE\\nimport xgboost as xgb\\nfrom sklearn.linear_model import LassoCV\\nimport pickle\\nimport re\\nfrom sklearn.model_selection import GridSearchCV\\nimport skimage\\nimport imutils\\nfrom sklearn.feature_extraction.text import CountVectorizer\\nimport spacy\\nfrom xlrd import open_workbook\\nfrom openpyxl import load_workbook\\nimport statistics\\nfrom sklearn.preprocessing import PolynomialFeatures\\nimport cv2\\nfrom sklearn.preprocessing import MinMaxScaler\\nfrom sklearn.linear_model import LinearRegression\\nimport plotly as py\\nfrom pathlib import Path\\nfrom sklearn.linear_model import LogisticRegression\\nimport plotly.express as px\\nimport statsmodels.api as sm\\nimport tensorflow as tf\\nfrom sklearn.linear_model import Lasso\\nimport textblob\\nimport lightgbm as lgb'); }\n",
              "    "
            ]
          },
          "metadata": {}
        },
        {
          "output_type": "display_data",
          "data": {
            "text/plain": [
              "<IPython.core.display.Javascript object>"
            ],
            "application/javascript": [
              "\n",
              "        if (window._pyforest_update_imports_cell) { window._pyforest_update_imports_cell('from sklearn.model_selection import KFold\\nfrom sklearn.feature_extraction.text import TfidfVectorizer\\nimport nltk\\nfrom sklearn.ensemble import GradientBoostingRegressor\\nfrom sklearn.linear_model import ElasticNetCV\\nfrom sklearn.cluster import KMeans\\nimport bokeh\\nfrom PIL import Image\\nfrom sklearn.preprocessing import LabelEncoder\\nfrom sklearn.preprocessing import OneHotEncoder\\nfrom scipy import signal as sg\\nimport pandas as pd\\nimport matplotlib as mpl\\nfrom sklearn import svm\\nimport sys\\nfrom scipy import stats\\nimport altair as alt\\nfrom sklearn.model_selection import train_test_split\\nfrom sklearn.linear_model import ElasticNet\\nimport seaborn as sns\\nfrom sklearn.preprocessing import StandardScaler\\nimport torch\\nfrom sklearn.model_selection import cross_val_score\\nimport numpy as np\\nfrom sklearn import metrics\\nimport gensim\\nimport matplotlib.pyplot as plt\\nimport tqdm\\nimport sklearn\\nimport pydot\\nfrom sklearn.decomposition import PCA\\nfrom sklearn.ensemble import GradientBoostingClassifier\\nimport os\\nimport fastai\\nfrom statsmodels.tsa.arima_model import ARIMA\\nfrom sklearn.manifold import TSNE\\nimport xgboost as xgb\\nfrom sklearn.linear_model import LassoCV\\nimport pickle\\nimport re\\nfrom sklearn.model_selection import GridSearchCV\\nimport skimage\\nimport imutils\\nfrom sklearn.feature_extraction.text import CountVectorizer\\nimport spacy\\nfrom xlrd import open_workbook\\nfrom openpyxl import load_workbook\\nimport statistics\\nfrom sklearn.preprocessing import PolynomialFeatures\\nimport cv2\\nfrom sklearn.preprocessing import MinMaxScaler\\nfrom sklearn.linear_model import LinearRegression\\nimport plotly as py\\nfrom pathlib import Path\\nfrom sklearn.linear_model import LogisticRegression\\nimport plotly.express as px\\nimport statsmodels.api as sm\\nimport tensorflow as tf\\nfrom sklearn.linear_model import Lasso\\nimport textblob\\nimport lightgbm as lgb'); }\n",
              "    "
            ]
          },
          "metadata": {}
        },
        {
          "output_type": "display_data",
          "data": {
            "text/plain": [
              "<IPython.core.display.Javascript object>"
            ],
            "application/javascript": [
              "\n",
              "        if (window._pyforest_update_imports_cell) { window._pyforest_update_imports_cell('from sklearn.model_selection import KFold\\nfrom sklearn.feature_extraction.text import TfidfVectorizer\\nimport nltk\\nfrom sklearn.ensemble import GradientBoostingRegressor\\nfrom sklearn.linear_model import ElasticNetCV\\nfrom sklearn.cluster import KMeans\\nimport bokeh\\nfrom PIL import Image\\nfrom sklearn.preprocessing import LabelEncoder\\nfrom sklearn.preprocessing import OneHotEncoder\\nfrom scipy import signal as sg\\nimport pandas as pd\\nimport matplotlib as mpl\\nfrom sklearn import svm\\nimport sys\\nfrom scipy import stats\\nimport altair as alt\\nfrom sklearn.model_selection import train_test_split\\nfrom sklearn.linear_model import ElasticNet\\nimport seaborn as sns\\nfrom sklearn.preprocessing import StandardScaler\\nimport torch\\nfrom sklearn.model_selection import cross_val_score\\nimport numpy as np\\nfrom sklearn import metrics\\nimport gensim\\nimport matplotlib.pyplot as plt\\nimport tqdm\\nimport sklearn\\nimport pydot\\nfrom sklearn.decomposition import PCA\\nfrom sklearn.ensemble import GradientBoostingClassifier\\nimport os\\nimport fastai\\nfrom statsmodels.tsa.arima_model import ARIMA\\nfrom sklearn.manifold import TSNE\\nimport xgboost as xgb\\nfrom sklearn.linear_model import LassoCV\\nimport pickle\\nimport re\\nfrom sklearn.model_selection import GridSearchCV\\nimport skimage\\nimport imutils\\nfrom sklearn.feature_extraction.text import CountVectorizer\\nimport spacy\\nfrom xlrd import open_workbook\\nfrom openpyxl import load_workbook\\nimport statistics\\nfrom sklearn.preprocessing import PolynomialFeatures\\nimport cv2\\nfrom sklearn.preprocessing import MinMaxScaler\\nfrom sklearn.linear_model import LinearRegression\\nimport plotly as py\\nfrom pathlib import Path\\nfrom sklearn.linear_model import LogisticRegression\\nimport plotly.express as px\\nimport statsmodels.api as sm\\nimport tensorflow as tf\\nfrom sklearn.linear_model import Lasso\\nimport textblob\\nimport lightgbm as lgb'); }\n",
              "    "
            ]
          },
          "metadata": {}
        },
        {
          "output_type": "display_data",
          "data": {
            "text/plain": [
              "<IPython.core.display.Javascript object>"
            ],
            "application/javascript": [
              "\n",
              "        if (window._pyforest_update_imports_cell) { window._pyforest_update_imports_cell('from sklearn.model_selection import KFold\\nfrom sklearn.feature_extraction.text import TfidfVectorizer\\nimport nltk\\nfrom sklearn.ensemble import GradientBoostingRegressor\\nfrom sklearn.linear_model import ElasticNetCV\\nfrom sklearn.cluster import KMeans\\nimport bokeh\\nfrom PIL import Image\\nfrom sklearn.preprocessing import LabelEncoder\\nfrom sklearn.preprocessing import OneHotEncoder\\nfrom scipy import signal as sg\\nimport pandas as pd\\nimport matplotlib as mpl\\nfrom sklearn import svm\\nimport sys\\nfrom scipy import stats\\nimport altair as alt\\nfrom sklearn.model_selection import train_test_split\\nfrom sklearn.linear_model import ElasticNet\\nimport seaborn as sns\\nfrom sklearn.preprocessing import StandardScaler\\nimport torch\\nfrom sklearn.model_selection import cross_val_score\\nimport numpy as np\\nfrom sklearn import metrics\\nimport gensim\\nimport matplotlib.pyplot as plt\\nimport tqdm\\nimport sklearn\\nimport pydot\\nfrom sklearn.decomposition import PCA\\nfrom sklearn.ensemble import GradientBoostingClassifier\\nimport os\\nimport fastai\\nfrom statsmodels.tsa.arima_model import ARIMA\\nfrom sklearn.manifold import TSNE\\nimport xgboost as xgb\\nfrom sklearn.linear_model import LassoCV\\nimport pickle\\nimport re\\nfrom sklearn.model_selection import GridSearchCV\\nimport skimage\\nimport imutils\\nfrom sklearn.feature_extraction.text import CountVectorizer\\nimport spacy\\nfrom xlrd import open_workbook\\nfrom openpyxl import load_workbook\\nimport statistics\\nfrom sklearn.preprocessing import PolynomialFeatures\\nimport cv2\\nfrom sklearn.preprocessing import MinMaxScaler\\nfrom sklearn.linear_model import LinearRegression\\nimport plotly as py\\nfrom pathlib import Path\\nfrom sklearn.linear_model import LogisticRegression\\nimport plotly.express as px\\nimport statsmodels.api as sm\\nimport tensorflow as tf\\nfrom sklearn.linear_model import Lasso\\nimport textblob\\nimport lightgbm as lgb'); }\n",
              "    "
            ]
          },
          "metadata": {}
        },
        {
          "output_type": "display_data",
          "data": {
            "text/plain": [
              "<IPython.core.display.Javascript object>"
            ],
            "application/javascript": [
              "\n",
              "        if (window._pyforest_update_imports_cell) { window._pyforest_update_imports_cell('from sklearn.model_selection import KFold\\nfrom sklearn.feature_extraction.text import TfidfVectorizer\\nimport nltk\\nfrom sklearn.ensemble import GradientBoostingRegressor\\nfrom sklearn.linear_model import ElasticNetCV\\nfrom sklearn.cluster import KMeans\\nimport bokeh\\nfrom PIL import Image\\nfrom sklearn.preprocessing import LabelEncoder\\nfrom sklearn.preprocessing import OneHotEncoder\\nfrom scipy import signal as sg\\nimport pandas as pd\\nimport matplotlib as mpl\\nfrom sklearn import svm\\nimport sys\\nfrom scipy import stats\\nimport altair as alt\\nfrom sklearn.model_selection import train_test_split\\nfrom sklearn.linear_model import ElasticNet\\nimport seaborn as sns\\nfrom sklearn.preprocessing import StandardScaler\\nimport torch\\nfrom sklearn.model_selection import cross_val_score\\nimport numpy as np\\nfrom sklearn import metrics\\nimport gensim\\nimport matplotlib.pyplot as plt\\nimport tqdm\\nimport sklearn\\nimport pydot\\nfrom sklearn.decomposition import PCA\\nfrom sklearn.ensemble import GradientBoostingClassifier\\nimport os\\nimport fastai\\nfrom statsmodels.tsa.arima_model import ARIMA\\nfrom sklearn.manifold import TSNE\\nimport xgboost as xgb\\nfrom sklearn.linear_model import LassoCV\\nimport pickle\\nimport re\\nfrom sklearn.model_selection import GridSearchCV\\nimport skimage\\nimport imutils\\nfrom sklearn.feature_extraction.text import CountVectorizer\\nimport spacy\\nfrom xlrd import open_workbook\\nfrom openpyxl import load_workbook\\nimport statistics\\nfrom sklearn.preprocessing import PolynomialFeatures\\nimport cv2\\nfrom sklearn.preprocessing import MinMaxScaler\\nfrom sklearn.linear_model import LinearRegression\\nimport plotly as py\\nfrom pathlib import Path\\nfrom sklearn.linear_model import LogisticRegression\\nimport plotly.express as px\\nimport statsmodels.api as sm\\nimport tensorflow as tf\\nfrom sklearn.linear_model import Lasso\\nimport textblob\\nimport lightgbm as lgb'); }\n",
              "    "
            ]
          },
          "metadata": {}
        },
        {
          "output_type": "display_data",
          "data": {
            "text/plain": [
              "<IPython.core.display.Javascript object>"
            ],
            "application/javascript": [
              "\n",
              "        if (window._pyforest_update_imports_cell) { window._pyforest_update_imports_cell('from sklearn.model_selection import KFold\\nfrom sklearn.feature_extraction.text import TfidfVectorizer\\nimport nltk\\nfrom sklearn.ensemble import GradientBoostingRegressor\\nfrom sklearn.linear_model import ElasticNetCV\\nfrom sklearn.cluster import KMeans\\nimport bokeh\\nfrom PIL import Image\\nfrom sklearn.preprocessing import LabelEncoder\\nfrom sklearn.preprocessing import OneHotEncoder\\nfrom scipy import signal as sg\\nimport pandas as pd\\nimport matplotlib as mpl\\nfrom sklearn import svm\\nimport sys\\nfrom scipy import stats\\nimport altair as alt\\nfrom sklearn.model_selection import train_test_split\\nfrom sklearn.linear_model import ElasticNet\\nimport seaborn as sns\\nfrom sklearn.preprocessing import StandardScaler\\nimport torch\\nfrom sklearn.model_selection import cross_val_score\\nimport numpy as np\\nfrom sklearn import metrics\\nimport gensim\\nimport matplotlib.pyplot as plt\\nimport tqdm\\nimport sklearn\\nimport pydot\\nfrom sklearn.decomposition import PCA\\nfrom sklearn.ensemble import GradientBoostingClassifier\\nimport os\\nimport fastai\\nfrom statsmodels.tsa.arima_model import ARIMA\\nfrom sklearn.manifold import TSNE\\nimport xgboost as xgb\\nfrom sklearn.linear_model import LassoCV\\nimport pickle\\nimport re\\nfrom sklearn.model_selection import GridSearchCV\\nimport skimage\\nimport imutils\\nfrom sklearn.feature_extraction.text import CountVectorizer\\nimport spacy\\nfrom xlrd import open_workbook\\nfrom openpyxl import load_workbook\\nimport statistics\\nfrom sklearn.preprocessing import PolynomialFeatures\\nimport cv2\\nfrom sklearn.preprocessing import MinMaxScaler\\nfrom sklearn.linear_model import LinearRegression\\nimport plotly as py\\nfrom pathlib import Path\\nfrom sklearn.linear_model import LogisticRegression\\nimport plotly.express as px\\nimport statsmodels.api as sm\\nimport tensorflow as tf\\nfrom sklearn.linear_model import Lasso\\nimport textblob\\nimport lightgbm as lgb'); }\n",
              "    "
            ]
          },
          "metadata": {}
        },
        {
          "output_type": "display_data",
          "data": {
            "text/plain": [
              "<IPython.core.display.Javascript object>"
            ],
            "application/javascript": [
              "\n",
              "        if (window._pyforest_update_imports_cell) { window._pyforest_update_imports_cell('from sklearn.model_selection import KFold\\nfrom sklearn.feature_extraction.text import TfidfVectorizer\\nimport nltk\\nfrom sklearn.ensemble import GradientBoostingRegressor\\nfrom sklearn.linear_model import ElasticNetCV\\nfrom sklearn.cluster import KMeans\\nimport bokeh\\nfrom PIL import Image\\nfrom sklearn.preprocessing import LabelEncoder\\nfrom sklearn.preprocessing import OneHotEncoder\\nfrom scipy import signal as sg\\nimport pandas as pd\\nimport matplotlib as mpl\\nfrom sklearn import svm\\nimport sys\\nfrom scipy import stats\\nimport altair as alt\\nfrom sklearn.model_selection import train_test_split\\nfrom sklearn.linear_model import ElasticNet\\nimport seaborn as sns\\nfrom sklearn.preprocessing import StandardScaler\\nimport torch\\nfrom sklearn.model_selection import cross_val_score\\nimport numpy as np\\nfrom sklearn import metrics\\nimport gensim\\nimport matplotlib.pyplot as plt\\nimport tqdm\\nimport sklearn\\nimport pydot\\nfrom sklearn.decomposition import PCA\\nfrom sklearn.ensemble import GradientBoostingClassifier\\nimport os\\nimport fastai\\nfrom statsmodels.tsa.arima_model import ARIMA\\nfrom sklearn.manifold import TSNE\\nimport xgboost as xgb\\nfrom sklearn.linear_model import LassoCV\\nimport pickle\\nimport re\\nfrom sklearn.model_selection import GridSearchCV\\nimport skimage\\nimport imutils\\nfrom sklearn.feature_extraction.text import CountVectorizer\\nimport spacy\\nfrom xlrd import open_workbook\\nfrom openpyxl import load_workbook\\nimport statistics\\nfrom sklearn.preprocessing import PolynomialFeatures\\nimport cv2\\nfrom sklearn.preprocessing import MinMaxScaler\\nfrom sklearn.linear_model import LinearRegression\\nimport plotly as py\\nfrom pathlib import Path\\nfrom sklearn.linear_model import LogisticRegression\\nimport plotly.express as px\\nimport statsmodels.api as sm\\nimport tensorflow as tf\\nfrom sklearn.linear_model import Lasso\\nimport textblob\\nimport lightgbm as lgb'); }\n",
              "    "
            ]
          },
          "metadata": {}
        },
        {
          "output_type": "display_data",
          "data": {
            "text/plain": [
              "<IPython.core.display.Javascript object>"
            ],
            "application/javascript": [
              "\n",
              "        if (window._pyforest_update_imports_cell) { window._pyforest_update_imports_cell('from sklearn.model_selection import KFold\\nfrom sklearn.feature_extraction.text import TfidfVectorizer\\nimport nltk\\nfrom sklearn.ensemble import GradientBoostingRegressor\\nfrom sklearn.linear_model import ElasticNetCV\\nfrom sklearn.cluster import KMeans\\nimport bokeh\\nfrom PIL import Image\\nfrom sklearn.preprocessing import LabelEncoder\\nfrom sklearn.preprocessing import OneHotEncoder\\nfrom scipy import signal as sg\\nimport pandas as pd\\nimport matplotlib as mpl\\nfrom sklearn import svm\\nimport sys\\nfrom scipy import stats\\nimport altair as alt\\nfrom sklearn.model_selection import train_test_split\\nfrom sklearn.linear_model import ElasticNet\\nimport seaborn as sns\\nfrom sklearn.preprocessing import StandardScaler\\nimport torch\\nfrom sklearn.model_selection import cross_val_score\\nimport numpy as np\\nfrom sklearn import metrics\\nimport gensim\\nimport matplotlib.pyplot as plt\\nimport tqdm\\nimport sklearn\\nimport pydot\\nfrom sklearn.decomposition import PCA\\nfrom sklearn.ensemble import GradientBoostingClassifier\\nimport os\\nimport fastai\\nfrom statsmodels.tsa.arima_model import ARIMA\\nfrom sklearn.manifold import TSNE\\nimport xgboost as xgb\\nfrom sklearn.linear_model import LassoCV\\nimport pickle\\nimport re\\nfrom sklearn.model_selection import GridSearchCV\\nimport skimage\\nimport imutils\\nfrom sklearn.feature_extraction.text import CountVectorizer\\nimport spacy\\nfrom xlrd import open_workbook\\nfrom openpyxl import load_workbook\\nimport statistics\\nfrom sklearn.preprocessing import PolynomialFeatures\\nimport cv2\\nfrom sklearn.preprocessing import MinMaxScaler\\nfrom sklearn.linear_model import LinearRegression\\nimport plotly as py\\nfrom pathlib import Path\\nfrom sklearn.linear_model import LogisticRegression\\nimport plotly.express as px\\nimport statsmodels.api as sm\\nimport tensorflow as tf\\nfrom sklearn.linear_model import Lasso\\nimport textblob\\nimport lightgbm as lgb'); }\n",
              "    "
            ]
          },
          "metadata": {}
        },
        {
          "output_type": "display_data",
          "data": {
            "text/plain": [
              "<IPython.core.display.Javascript object>"
            ],
            "application/javascript": [
              "\n",
              "        if (window._pyforest_update_imports_cell) { window._pyforest_update_imports_cell('from sklearn.model_selection import KFold\\nfrom sklearn.feature_extraction.text import TfidfVectorizer\\nimport nltk\\nfrom sklearn.ensemble import GradientBoostingRegressor\\nfrom sklearn.linear_model import ElasticNetCV\\nfrom sklearn.cluster import KMeans\\nimport bokeh\\nfrom PIL import Image\\nfrom sklearn.preprocessing import LabelEncoder\\nfrom sklearn.preprocessing import OneHotEncoder\\nfrom scipy import signal as sg\\nimport pandas as pd\\nimport matplotlib as mpl\\nfrom sklearn import svm\\nimport sys\\nfrom scipy import stats\\nimport altair as alt\\nfrom sklearn.model_selection import train_test_split\\nfrom sklearn.linear_model import ElasticNet\\nimport seaborn as sns\\nfrom sklearn.preprocessing import StandardScaler\\nimport torch\\nfrom sklearn.model_selection import cross_val_score\\nimport numpy as np\\nfrom sklearn import metrics\\nimport gensim\\nimport matplotlib.pyplot as plt\\nimport tqdm\\nimport sklearn\\nimport pydot\\nfrom sklearn.decomposition import PCA\\nfrom sklearn.ensemble import GradientBoostingClassifier\\nimport os\\nimport fastai\\nfrom statsmodels.tsa.arima_model import ARIMA\\nfrom sklearn.manifold import TSNE\\nimport xgboost as xgb\\nfrom sklearn.linear_model import LassoCV\\nimport pickle\\nimport re\\nfrom sklearn.model_selection import GridSearchCV\\nimport skimage\\nimport imutils\\nfrom sklearn.feature_extraction.text import CountVectorizer\\nimport spacy\\nfrom xlrd import open_workbook\\nfrom openpyxl import load_workbook\\nimport statistics\\nfrom sklearn.preprocessing import PolynomialFeatures\\nimport cv2\\nfrom sklearn.preprocessing import MinMaxScaler\\nfrom sklearn.linear_model import LinearRegression\\nimport plotly as py\\nfrom pathlib import Path\\nfrom sklearn.linear_model import LogisticRegression\\nimport plotly.express as px\\nimport statsmodels.api as sm\\nimport tensorflow as tf\\nfrom sklearn.linear_model import Lasso\\nimport textblob\\nimport lightgbm as lgb'); }\n",
              "    "
            ]
          },
          "metadata": {}
        },
        {
          "output_type": "display_data",
          "data": {
            "text/plain": [
              "<IPython.core.display.Javascript object>"
            ],
            "application/javascript": [
              "\n",
              "        if (window._pyforest_update_imports_cell) { window._pyforest_update_imports_cell('from sklearn.model_selection import KFold\\nfrom sklearn.feature_extraction.text import TfidfVectorizer\\nimport nltk\\nfrom sklearn.ensemble import GradientBoostingRegressor\\nfrom sklearn.linear_model import ElasticNetCV\\nfrom sklearn.cluster import KMeans\\nimport bokeh\\nfrom PIL import Image\\nfrom sklearn.preprocessing import LabelEncoder\\nfrom sklearn.preprocessing import OneHotEncoder\\nfrom scipy import signal as sg\\nimport pandas as pd\\nimport matplotlib as mpl\\nfrom sklearn import svm\\nimport sys\\nfrom scipy import stats\\nimport altair as alt\\nfrom sklearn.model_selection import train_test_split\\nfrom sklearn.linear_model import ElasticNet\\nimport seaborn as sns\\nfrom sklearn.preprocessing import StandardScaler\\nimport torch\\nfrom sklearn.model_selection import cross_val_score\\nimport numpy as np\\nfrom sklearn import metrics\\nimport gensim\\nimport matplotlib.pyplot as plt\\nimport tqdm\\nimport sklearn\\nimport pydot\\nfrom sklearn.decomposition import PCA\\nfrom sklearn.ensemble import GradientBoostingClassifier\\nimport os\\nimport fastai\\nfrom statsmodels.tsa.arima_model import ARIMA\\nfrom sklearn.manifold import TSNE\\nimport xgboost as xgb\\nfrom sklearn.linear_model import LassoCV\\nimport pickle\\nimport re\\nfrom sklearn.model_selection import GridSearchCV\\nimport skimage\\nimport imutils\\nfrom sklearn.feature_extraction.text import CountVectorizer\\nimport spacy\\nfrom xlrd import open_workbook\\nfrom openpyxl import load_workbook\\nimport statistics\\nfrom sklearn.preprocessing import PolynomialFeatures\\nimport cv2\\nfrom sklearn.preprocessing import MinMaxScaler\\nfrom sklearn.linear_model import LinearRegression\\nimport plotly as py\\nfrom pathlib import Path\\nfrom sklearn.linear_model import LogisticRegression\\nimport plotly.express as px\\nimport statsmodels.api as sm\\nimport tensorflow as tf\\nfrom sklearn.linear_model import Lasso\\nimport textblob\\nimport lightgbm as lgb'); }\n",
              "    "
            ]
          },
          "metadata": {}
        }
      ]
    },
    {
      "cell_type": "code",
      "source": [
        "dataset.head()"
      ],
      "metadata": {
        "colab": {
          "base_uri": "https://localhost:8080/",
          "height": 339
        },
        "id": "9aFLzNd24wC5",
        "outputId": "a5d4f592-9abc-4423-8f35-68d24d674711"
      },
      "execution_count": 440,
      "outputs": [
        {
          "output_type": "execute_result",
          "data": {
            "text/plain": [
              "   gender  SeniorCitizen  Partner  ...  MonthlyCharges  TotalCharges  Churn\n",
              "0  Female              0        1  ...           29.85         29.85      0\n",
              "1    Male              0        0  ...           56.95        1889.5      0\n",
              "2    Male              0        0  ...           53.85        108.15      1\n",
              "3    Male              0        0  ...           42.30       1840.75      0\n",
              "4  Female              0        0  ...           70.70        151.65      1\n",
              "\n",
              "[5 rows x 20 columns]"
            ],
            "text/html": [
              "\n",
              "  <div id=\"df-e201d080-a8a2-4a69-b3df-9ae332d7cc51\">\n",
              "    <div class=\"colab-df-container\">\n",
              "      <div>\n",
              "<style scoped>\n",
              "    .dataframe tbody tr th:only-of-type {\n",
              "        vertical-align: middle;\n",
              "    }\n",
              "\n",
              "    .dataframe tbody tr th {\n",
              "        vertical-align: top;\n",
              "    }\n",
              "\n",
              "    .dataframe thead th {\n",
              "        text-align: right;\n",
              "    }\n",
              "</style>\n",
              "<table border=\"1\" class=\"dataframe\">\n",
              "  <thead>\n",
              "    <tr style=\"text-align: right;\">\n",
              "      <th></th>\n",
              "      <th>gender</th>\n",
              "      <th>SeniorCitizen</th>\n",
              "      <th>Partner</th>\n",
              "      <th>Dependents</th>\n",
              "      <th>tenure</th>\n",
              "      <th>PhoneService</th>\n",
              "      <th>MultipleLines</th>\n",
              "      <th>InternetService</th>\n",
              "      <th>OnlineSecurity</th>\n",
              "      <th>OnlineBackup</th>\n",
              "      <th>DeviceProtection</th>\n",
              "      <th>TechSupport</th>\n",
              "      <th>StreamingTV</th>\n",
              "      <th>StreamingMovies</th>\n",
              "      <th>Contract</th>\n",
              "      <th>PaperlessBilling</th>\n",
              "      <th>PaymentMethod</th>\n",
              "      <th>MonthlyCharges</th>\n",
              "      <th>TotalCharges</th>\n",
              "      <th>Churn</th>\n",
              "    </tr>\n",
              "  </thead>\n",
              "  <tbody>\n",
              "    <tr>\n",
              "      <th>0</th>\n",
              "      <td>Female</td>\n",
              "      <td>0</td>\n",
              "      <td>1</td>\n",
              "      <td>0</td>\n",
              "      <td>1</td>\n",
              "      <td>0</td>\n",
              "      <td>0</td>\n",
              "      <td>DSL</td>\n",
              "      <td>0</td>\n",
              "      <td>1</td>\n",
              "      <td>0</td>\n",
              "      <td>0</td>\n",
              "      <td>0</td>\n",
              "      <td>0</td>\n",
              "      <td>Month-to-month</td>\n",
              "      <td>1</td>\n",
              "      <td>Electronic check</td>\n",
              "      <td>29.85</td>\n",
              "      <td>29.85</td>\n",
              "      <td>0</td>\n",
              "    </tr>\n",
              "    <tr>\n",
              "      <th>1</th>\n",
              "      <td>Male</td>\n",
              "      <td>0</td>\n",
              "      <td>0</td>\n",
              "      <td>0</td>\n",
              "      <td>34</td>\n",
              "      <td>1</td>\n",
              "      <td>0</td>\n",
              "      <td>DSL</td>\n",
              "      <td>1</td>\n",
              "      <td>0</td>\n",
              "      <td>1</td>\n",
              "      <td>0</td>\n",
              "      <td>0</td>\n",
              "      <td>0</td>\n",
              "      <td>One year</td>\n",
              "      <td>0</td>\n",
              "      <td>Mailed check</td>\n",
              "      <td>56.95</td>\n",
              "      <td>1889.5</td>\n",
              "      <td>0</td>\n",
              "    </tr>\n",
              "    <tr>\n",
              "      <th>2</th>\n",
              "      <td>Male</td>\n",
              "      <td>0</td>\n",
              "      <td>0</td>\n",
              "      <td>0</td>\n",
              "      <td>2</td>\n",
              "      <td>1</td>\n",
              "      <td>0</td>\n",
              "      <td>DSL</td>\n",
              "      <td>1</td>\n",
              "      <td>1</td>\n",
              "      <td>0</td>\n",
              "      <td>0</td>\n",
              "      <td>0</td>\n",
              "      <td>0</td>\n",
              "      <td>Month-to-month</td>\n",
              "      <td>1</td>\n",
              "      <td>Mailed check</td>\n",
              "      <td>53.85</td>\n",
              "      <td>108.15</td>\n",
              "      <td>1</td>\n",
              "    </tr>\n",
              "    <tr>\n",
              "      <th>3</th>\n",
              "      <td>Male</td>\n",
              "      <td>0</td>\n",
              "      <td>0</td>\n",
              "      <td>0</td>\n",
              "      <td>45</td>\n",
              "      <td>0</td>\n",
              "      <td>0</td>\n",
              "      <td>DSL</td>\n",
              "      <td>1</td>\n",
              "      <td>0</td>\n",
              "      <td>1</td>\n",
              "      <td>1</td>\n",
              "      <td>0</td>\n",
              "      <td>0</td>\n",
              "      <td>One year</td>\n",
              "      <td>0</td>\n",
              "      <td>Bank transfer (automatic)</td>\n",
              "      <td>42.30</td>\n",
              "      <td>1840.75</td>\n",
              "      <td>0</td>\n",
              "    </tr>\n",
              "    <tr>\n",
              "      <th>4</th>\n",
              "      <td>Female</td>\n",
              "      <td>0</td>\n",
              "      <td>0</td>\n",
              "      <td>0</td>\n",
              "      <td>2</td>\n",
              "      <td>1</td>\n",
              "      <td>0</td>\n",
              "      <td>Fiber optic</td>\n",
              "      <td>0</td>\n",
              "      <td>0</td>\n",
              "      <td>0</td>\n",
              "      <td>0</td>\n",
              "      <td>0</td>\n",
              "      <td>0</td>\n",
              "      <td>Month-to-month</td>\n",
              "      <td>1</td>\n",
              "      <td>Electronic check</td>\n",
              "      <td>70.70</td>\n",
              "      <td>151.65</td>\n",
              "      <td>1</td>\n",
              "    </tr>\n",
              "  </tbody>\n",
              "</table>\n",
              "</div>\n",
              "      <button class=\"colab-df-convert\" onclick=\"convertToInteractive('df-e201d080-a8a2-4a69-b3df-9ae332d7cc51')\"\n",
              "              title=\"Convert this dataframe to an interactive table.\"\n",
              "              style=\"display:none;\">\n",
              "        \n",
              "  <svg xmlns=\"http://www.w3.org/2000/svg\" height=\"24px\"viewBox=\"0 0 24 24\"\n",
              "       width=\"24px\">\n",
              "    <path d=\"M0 0h24v24H0V0z\" fill=\"none\"/>\n",
              "    <path d=\"M18.56 5.44l.94 2.06.94-2.06 2.06-.94-2.06-.94-.94-2.06-.94 2.06-2.06.94zm-11 1L8.5 8.5l.94-2.06 2.06-.94-2.06-.94L8.5 2.5l-.94 2.06-2.06.94zm10 10l.94 2.06.94-2.06 2.06-.94-2.06-.94-.94-2.06-.94 2.06-2.06.94z\"/><path d=\"M17.41 7.96l-1.37-1.37c-.4-.4-.92-.59-1.43-.59-.52 0-1.04.2-1.43.59L10.3 9.45l-7.72 7.72c-.78.78-.78 2.05 0 2.83L4 21.41c.39.39.9.59 1.41.59.51 0 1.02-.2 1.41-.59l7.78-7.78 2.81-2.81c.8-.78.8-2.07 0-2.86zM5.41 20L4 18.59l7.72-7.72 1.47 1.35L5.41 20z\"/>\n",
              "  </svg>\n",
              "      </button>\n",
              "      \n",
              "  <style>\n",
              "    .colab-df-container {\n",
              "      display:flex;\n",
              "      flex-wrap:wrap;\n",
              "      gap: 12px;\n",
              "    }\n",
              "\n",
              "    .colab-df-convert {\n",
              "      background-color: #E8F0FE;\n",
              "      border: none;\n",
              "      border-radius: 50%;\n",
              "      cursor: pointer;\n",
              "      display: none;\n",
              "      fill: #1967D2;\n",
              "      height: 32px;\n",
              "      padding: 0 0 0 0;\n",
              "      width: 32px;\n",
              "    }\n",
              "\n",
              "    .colab-df-convert:hover {\n",
              "      background-color: #E2EBFA;\n",
              "      box-shadow: 0px 1px 2px rgba(60, 64, 67, 0.3), 0px 1px 3px 1px rgba(60, 64, 67, 0.15);\n",
              "      fill: #174EA6;\n",
              "    }\n",
              "\n",
              "    [theme=dark] .colab-df-convert {\n",
              "      background-color: #3B4455;\n",
              "      fill: #D2E3FC;\n",
              "    }\n",
              "\n",
              "    [theme=dark] .colab-df-convert:hover {\n",
              "      background-color: #434B5C;\n",
              "      box-shadow: 0px 1px 3px 1px rgba(0, 0, 0, 0.15);\n",
              "      filter: drop-shadow(0px 1px 2px rgba(0, 0, 0, 0.3));\n",
              "      fill: #FFFFFF;\n",
              "    }\n",
              "  </style>\n",
              "\n",
              "      <script>\n",
              "        const buttonEl =\n",
              "          document.querySelector('#df-e201d080-a8a2-4a69-b3df-9ae332d7cc51 button.colab-df-convert');\n",
              "        buttonEl.style.display =\n",
              "          google.colab.kernel.accessAllowed ? 'block' : 'none';\n",
              "\n",
              "        async function convertToInteractive(key) {\n",
              "          const element = document.querySelector('#df-e201d080-a8a2-4a69-b3df-9ae332d7cc51');\n",
              "          const dataTable =\n",
              "            await google.colab.kernel.invokeFunction('convertToInteractive',\n",
              "                                                     [key], {});\n",
              "          if (!dataTable) return;\n",
              "\n",
              "          const docLinkHtml = 'Like what you see? Visit the ' +\n",
              "            '<a target=\"_blank\" href=https://colab.research.google.com/notebooks/data_table.ipynb>data table notebook</a>'\n",
              "            + ' to learn more about interactive tables.';\n",
              "          element.innerHTML = '';\n",
              "          dataTable['output_type'] = 'display_data';\n",
              "          await google.colab.output.renderOutput(dataTable, element);\n",
              "          const docLink = document.createElement('div');\n",
              "          docLink.innerHTML = docLinkHtml;\n",
              "          element.appendChild(docLink);\n",
              "        }\n",
              "      </script>\n",
              "    </div>\n",
              "  </div>\n",
              "  "
            ]
          },
          "metadata": {},
          "execution_count": 440
        }
      ]
    },
    {
      "cell_type": "code",
      "source": [
        "dataset.tail(5)"
      ],
      "metadata": {
        "colab": {
          "base_uri": "https://localhost:8080/",
          "height": 339
        },
        "id": "62MNzZS2569j",
        "outputId": "5ae67c27-dade-4725-d332-01145cb5600d"
      },
      "execution_count": 441,
      "outputs": [
        {
          "output_type": "execute_result",
          "data": {
            "text/plain": [
              "      gender  SeniorCitizen  Partner  ...  MonthlyCharges  TotalCharges  Churn\n",
              "7038    Male              0        1  ...           84.80        1990.5      0\n",
              "7039  Female              0        1  ...          103.20        7362.9      0\n",
              "7040  Female              0        1  ...           29.60        346.45      0\n",
              "7041    Male              1        1  ...           74.40         306.6      1\n",
              "7042    Male              0        0  ...          105.65        6844.5      0\n",
              "\n",
              "[5 rows x 20 columns]"
            ],
            "text/html": [
              "\n",
              "  <div id=\"df-5de6d597-215b-46d8-aa44-d38948f80ee3\">\n",
              "    <div class=\"colab-df-container\">\n",
              "      <div>\n",
              "<style scoped>\n",
              "    .dataframe tbody tr th:only-of-type {\n",
              "        vertical-align: middle;\n",
              "    }\n",
              "\n",
              "    .dataframe tbody tr th {\n",
              "        vertical-align: top;\n",
              "    }\n",
              "\n",
              "    .dataframe thead th {\n",
              "        text-align: right;\n",
              "    }\n",
              "</style>\n",
              "<table border=\"1\" class=\"dataframe\">\n",
              "  <thead>\n",
              "    <tr style=\"text-align: right;\">\n",
              "      <th></th>\n",
              "      <th>gender</th>\n",
              "      <th>SeniorCitizen</th>\n",
              "      <th>Partner</th>\n",
              "      <th>Dependents</th>\n",
              "      <th>tenure</th>\n",
              "      <th>PhoneService</th>\n",
              "      <th>MultipleLines</th>\n",
              "      <th>InternetService</th>\n",
              "      <th>OnlineSecurity</th>\n",
              "      <th>OnlineBackup</th>\n",
              "      <th>DeviceProtection</th>\n",
              "      <th>TechSupport</th>\n",
              "      <th>StreamingTV</th>\n",
              "      <th>StreamingMovies</th>\n",
              "      <th>Contract</th>\n",
              "      <th>PaperlessBilling</th>\n",
              "      <th>PaymentMethod</th>\n",
              "      <th>MonthlyCharges</th>\n",
              "      <th>TotalCharges</th>\n",
              "      <th>Churn</th>\n",
              "    </tr>\n",
              "  </thead>\n",
              "  <tbody>\n",
              "    <tr>\n",
              "      <th>7038</th>\n",
              "      <td>Male</td>\n",
              "      <td>0</td>\n",
              "      <td>1</td>\n",
              "      <td>1</td>\n",
              "      <td>24</td>\n",
              "      <td>1</td>\n",
              "      <td>1</td>\n",
              "      <td>DSL</td>\n",
              "      <td>1</td>\n",
              "      <td>0</td>\n",
              "      <td>1</td>\n",
              "      <td>1</td>\n",
              "      <td>1</td>\n",
              "      <td>1</td>\n",
              "      <td>One year</td>\n",
              "      <td>1</td>\n",
              "      <td>Mailed check</td>\n",
              "      <td>84.80</td>\n",
              "      <td>1990.5</td>\n",
              "      <td>0</td>\n",
              "    </tr>\n",
              "    <tr>\n",
              "      <th>7039</th>\n",
              "      <td>Female</td>\n",
              "      <td>0</td>\n",
              "      <td>1</td>\n",
              "      <td>1</td>\n",
              "      <td>72</td>\n",
              "      <td>1</td>\n",
              "      <td>1</td>\n",
              "      <td>Fiber optic</td>\n",
              "      <td>0</td>\n",
              "      <td>1</td>\n",
              "      <td>1</td>\n",
              "      <td>0</td>\n",
              "      <td>1</td>\n",
              "      <td>1</td>\n",
              "      <td>One year</td>\n",
              "      <td>1</td>\n",
              "      <td>Credit card (automatic)</td>\n",
              "      <td>103.20</td>\n",
              "      <td>7362.9</td>\n",
              "      <td>0</td>\n",
              "    </tr>\n",
              "    <tr>\n",
              "      <th>7040</th>\n",
              "      <td>Female</td>\n",
              "      <td>0</td>\n",
              "      <td>1</td>\n",
              "      <td>1</td>\n",
              "      <td>11</td>\n",
              "      <td>0</td>\n",
              "      <td>0</td>\n",
              "      <td>DSL</td>\n",
              "      <td>1</td>\n",
              "      <td>0</td>\n",
              "      <td>0</td>\n",
              "      <td>0</td>\n",
              "      <td>0</td>\n",
              "      <td>0</td>\n",
              "      <td>Month-to-month</td>\n",
              "      <td>1</td>\n",
              "      <td>Electronic check</td>\n",
              "      <td>29.60</td>\n",
              "      <td>346.45</td>\n",
              "      <td>0</td>\n",
              "    </tr>\n",
              "    <tr>\n",
              "      <th>7041</th>\n",
              "      <td>Male</td>\n",
              "      <td>1</td>\n",
              "      <td>1</td>\n",
              "      <td>0</td>\n",
              "      <td>4</td>\n",
              "      <td>1</td>\n",
              "      <td>1</td>\n",
              "      <td>Fiber optic</td>\n",
              "      <td>0</td>\n",
              "      <td>0</td>\n",
              "      <td>0</td>\n",
              "      <td>0</td>\n",
              "      <td>0</td>\n",
              "      <td>0</td>\n",
              "      <td>Month-to-month</td>\n",
              "      <td>1</td>\n",
              "      <td>Mailed check</td>\n",
              "      <td>74.40</td>\n",
              "      <td>306.6</td>\n",
              "      <td>1</td>\n",
              "    </tr>\n",
              "    <tr>\n",
              "      <th>7042</th>\n",
              "      <td>Male</td>\n",
              "      <td>0</td>\n",
              "      <td>0</td>\n",
              "      <td>0</td>\n",
              "      <td>66</td>\n",
              "      <td>1</td>\n",
              "      <td>0</td>\n",
              "      <td>Fiber optic</td>\n",
              "      <td>1</td>\n",
              "      <td>0</td>\n",
              "      <td>1</td>\n",
              "      <td>1</td>\n",
              "      <td>1</td>\n",
              "      <td>1</td>\n",
              "      <td>Two year</td>\n",
              "      <td>1</td>\n",
              "      <td>Bank transfer (automatic)</td>\n",
              "      <td>105.65</td>\n",
              "      <td>6844.5</td>\n",
              "      <td>0</td>\n",
              "    </tr>\n",
              "  </tbody>\n",
              "</table>\n",
              "</div>\n",
              "      <button class=\"colab-df-convert\" onclick=\"convertToInteractive('df-5de6d597-215b-46d8-aa44-d38948f80ee3')\"\n",
              "              title=\"Convert this dataframe to an interactive table.\"\n",
              "              style=\"display:none;\">\n",
              "        \n",
              "  <svg xmlns=\"http://www.w3.org/2000/svg\" height=\"24px\"viewBox=\"0 0 24 24\"\n",
              "       width=\"24px\">\n",
              "    <path d=\"M0 0h24v24H0V0z\" fill=\"none\"/>\n",
              "    <path d=\"M18.56 5.44l.94 2.06.94-2.06 2.06-.94-2.06-.94-.94-2.06-.94 2.06-2.06.94zm-11 1L8.5 8.5l.94-2.06 2.06-.94-2.06-.94L8.5 2.5l-.94 2.06-2.06.94zm10 10l.94 2.06.94-2.06 2.06-.94-2.06-.94-.94-2.06-.94 2.06-2.06.94z\"/><path d=\"M17.41 7.96l-1.37-1.37c-.4-.4-.92-.59-1.43-.59-.52 0-1.04.2-1.43.59L10.3 9.45l-7.72 7.72c-.78.78-.78 2.05 0 2.83L4 21.41c.39.39.9.59 1.41.59.51 0 1.02-.2 1.41-.59l7.78-7.78 2.81-2.81c.8-.78.8-2.07 0-2.86zM5.41 20L4 18.59l7.72-7.72 1.47 1.35L5.41 20z\"/>\n",
              "  </svg>\n",
              "      </button>\n",
              "      \n",
              "  <style>\n",
              "    .colab-df-container {\n",
              "      display:flex;\n",
              "      flex-wrap:wrap;\n",
              "      gap: 12px;\n",
              "    }\n",
              "\n",
              "    .colab-df-convert {\n",
              "      background-color: #E8F0FE;\n",
              "      border: none;\n",
              "      border-radius: 50%;\n",
              "      cursor: pointer;\n",
              "      display: none;\n",
              "      fill: #1967D2;\n",
              "      height: 32px;\n",
              "      padding: 0 0 0 0;\n",
              "      width: 32px;\n",
              "    }\n",
              "\n",
              "    .colab-df-convert:hover {\n",
              "      background-color: #E2EBFA;\n",
              "      box-shadow: 0px 1px 2px rgba(60, 64, 67, 0.3), 0px 1px 3px 1px rgba(60, 64, 67, 0.15);\n",
              "      fill: #174EA6;\n",
              "    }\n",
              "\n",
              "    [theme=dark] .colab-df-convert {\n",
              "      background-color: #3B4455;\n",
              "      fill: #D2E3FC;\n",
              "    }\n",
              "\n",
              "    [theme=dark] .colab-df-convert:hover {\n",
              "      background-color: #434B5C;\n",
              "      box-shadow: 0px 1px 3px 1px rgba(0, 0, 0, 0.15);\n",
              "      filter: drop-shadow(0px 1px 2px rgba(0, 0, 0, 0.3));\n",
              "      fill: #FFFFFF;\n",
              "    }\n",
              "  </style>\n",
              "\n",
              "      <script>\n",
              "        const buttonEl =\n",
              "          document.querySelector('#df-5de6d597-215b-46d8-aa44-d38948f80ee3 button.colab-df-convert');\n",
              "        buttonEl.style.display =\n",
              "          google.colab.kernel.accessAllowed ? 'block' : 'none';\n",
              "\n",
              "        async function convertToInteractive(key) {\n",
              "          const element = document.querySelector('#df-5de6d597-215b-46d8-aa44-d38948f80ee3');\n",
              "          const dataTable =\n",
              "            await google.colab.kernel.invokeFunction('convertToInteractive',\n",
              "                                                     [key], {});\n",
              "          if (!dataTable) return;\n",
              "\n",
              "          const docLinkHtml = 'Like what you see? Visit the ' +\n",
              "            '<a target=\"_blank\" href=https://colab.research.google.com/notebooks/data_table.ipynb>data table notebook</a>'\n",
              "            + ' to learn more about interactive tables.';\n",
              "          element.innerHTML = '';\n",
              "          dataTable['output_type'] = 'display_data';\n",
              "          await google.colab.output.renderOutput(dataTable, element);\n",
              "          const docLink = document.createElement('div');\n",
              "          docLink.innerHTML = docLinkHtml;\n",
              "          element.appendChild(docLink);\n",
              "        }\n",
              "      </script>\n",
              "    </div>\n",
              "  </div>\n",
              "  "
            ]
          },
          "metadata": {},
          "execution_count": 441
        }
      ]
    },
    {
      "cell_type": "code",
      "source": [
        "dataset[\"gender\"].replace({'Female': 1,'Male': 0},inplace=True)"
      ],
      "metadata": {
        "id": "feI2ROY96qlm"
      },
      "execution_count": 442,
      "outputs": []
    },
    {
      "cell_type": "code",
      "source": [
        "dataset.head()"
      ],
      "metadata": {
        "colab": {
          "base_uri": "https://localhost:8080/",
          "height": 339
        },
        "id": "VGJhbXPH7mbP",
        "outputId": "ddfea7f2-efdf-44b0-8c62-040cc774d76f"
      },
      "execution_count": 443,
      "outputs": [
        {
          "output_type": "execute_result",
          "data": {
            "text/plain": [
              "   gender  SeniorCitizen  Partner  ...  MonthlyCharges  TotalCharges  Churn\n",
              "0       1              0        1  ...           29.85         29.85      0\n",
              "1       0              0        0  ...           56.95        1889.5      0\n",
              "2       0              0        0  ...           53.85        108.15      1\n",
              "3       0              0        0  ...           42.30       1840.75      0\n",
              "4       1              0        0  ...           70.70        151.65      1\n",
              "\n",
              "[5 rows x 20 columns]"
            ],
            "text/html": [
              "\n",
              "  <div id=\"df-0f1926ac-9312-4fb9-9f3b-53e8cd8a7df2\">\n",
              "    <div class=\"colab-df-container\">\n",
              "      <div>\n",
              "<style scoped>\n",
              "    .dataframe tbody tr th:only-of-type {\n",
              "        vertical-align: middle;\n",
              "    }\n",
              "\n",
              "    .dataframe tbody tr th {\n",
              "        vertical-align: top;\n",
              "    }\n",
              "\n",
              "    .dataframe thead th {\n",
              "        text-align: right;\n",
              "    }\n",
              "</style>\n",
              "<table border=\"1\" class=\"dataframe\">\n",
              "  <thead>\n",
              "    <tr style=\"text-align: right;\">\n",
              "      <th></th>\n",
              "      <th>gender</th>\n",
              "      <th>SeniorCitizen</th>\n",
              "      <th>Partner</th>\n",
              "      <th>Dependents</th>\n",
              "      <th>tenure</th>\n",
              "      <th>PhoneService</th>\n",
              "      <th>MultipleLines</th>\n",
              "      <th>InternetService</th>\n",
              "      <th>OnlineSecurity</th>\n",
              "      <th>OnlineBackup</th>\n",
              "      <th>DeviceProtection</th>\n",
              "      <th>TechSupport</th>\n",
              "      <th>StreamingTV</th>\n",
              "      <th>StreamingMovies</th>\n",
              "      <th>Contract</th>\n",
              "      <th>PaperlessBilling</th>\n",
              "      <th>PaymentMethod</th>\n",
              "      <th>MonthlyCharges</th>\n",
              "      <th>TotalCharges</th>\n",
              "      <th>Churn</th>\n",
              "    </tr>\n",
              "  </thead>\n",
              "  <tbody>\n",
              "    <tr>\n",
              "      <th>0</th>\n",
              "      <td>1</td>\n",
              "      <td>0</td>\n",
              "      <td>1</td>\n",
              "      <td>0</td>\n",
              "      <td>1</td>\n",
              "      <td>0</td>\n",
              "      <td>0</td>\n",
              "      <td>DSL</td>\n",
              "      <td>0</td>\n",
              "      <td>1</td>\n",
              "      <td>0</td>\n",
              "      <td>0</td>\n",
              "      <td>0</td>\n",
              "      <td>0</td>\n",
              "      <td>Month-to-month</td>\n",
              "      <td>1</td>\n",
              "      <td>Electronic check</td>\n",
              "      <td>29.85</td>\n",
              "      <td>29.85</td>\n",
              "      <td>0</td>\n",
              "    </tr>\n",
              "    <tr>\n",
              "      <th>1</th>\n",
              "      <td>0</td>\n",
              "      <td>0</td>\n",
              "      <td>0</td>\n",
              "      <td>0</td>\n",
              "      <td>34</td>\n",
              "      <td>1</td>\n",
              "      <td>0</td>\n",
              "      <td>DSL</td>\n",
              "      <td>1</td>\n",
              "      <td>0</td>\n",
              "      <td>1</td>\n",
              "      <td>0</td>\n",
              "      <td>0</td>\n",
              "      <td>0</td>\n",
              "      <td>One year</td>\n",
              "      <td>0</td>\n",
              "      <td>Mailed check</td>\n",
              "      <td>56.95</td>\n",
              "      <td>1889.5</td>\n",
              "      <td>0</td>\n",
              "    </tr>\n",
              "    <tr>\n",
              "      <th>2</th>\n",
              "      <td>0</td>\n",
              "      <td>0</td>\n",
              "      <td>0</td>\n",
              "      <td>0</td>\n",
              "      <td>2</td>\n",
              "      <td>1</td>\n",
              "      <td>0</td>\n",
              "      <td>DSL</td>\n",
              "      <td>1</td>\n",
              "      <td>1</td>\n",
              "      <td>0</td>\n",
              "      <td>0</td>\n",
              "      <td>0</td>\n",
              "      <td>0</td>\n",
              "      <td>Month-to-month</td>\n",
              "      <td>1</td>\n",
              "      <td>Mailed check</td>\n",
              "      <td>53.85</td>\n",
              "      <td>108.15</td>\n",
              "      <td>1</td>\n",
              "    </tr>\n",
              "    <tr>\n",
              "      <th>3</th>\n",
              "      <td>0</td>\n",
              "      <td>0</td>\n",
              "      <td>0</td>\n",
              "      <td>0</td>\n",
              "      <td>45</td>\n",
              "      <td>0</td>\n",
              "      <td>0</td>\n",
              "      <td>DSL</td>\n",
              "      <td>1</td>\n",
              "      <td>0</td>\n",
              "      <td>1</td>\n",
              "      <td>1</td>\n",
              "      <td>0</td>\n",
              "      <td>0</td>\n",
              "      <td>One year</td>\n",
              "      <td>0</td>\n",
              "      <td>Bank transfer (automatic)</td>\n",
              "      <td>42.30</td>\n",
              "      <td>1840.75</td>\n",
              "      <td>0</td>\n",
              "    </tr>\n",
              "    <tr>\n",
              "      <th>4</th>\n",
              "      <td>1</td>\n",
              "      <td>0</td>\n",
              "      <td>0</td>\n",
              "      <td>0</td>\n",
              "      <td>2</td>\n",
              "      <td>1</td>\n",
              "      <td>0</td>\n",
              "      <td>Fiber optic</td>\n",
              "      <td>0</td>\n",
              "      <td>0</td>\n",
              "      <td>0</td>\n",
              "      <td>0</td>\n",
              "      <td>0</td>\n",
              "      <td>0</td>\n",
              "      <td>Month-to-month</td>\n",
              "      <td>1</td>\n",
              "      <td>Electronic check</td>\n",
              "      <td>70.70</td>\n",
              "      <td>151.65</td>\n",
              "      <td>1</td>\n",
              "    </tr>\n",
              "  </tbody>\n",
              "</table>\n",
              "</div>\n",
              "      <button class=\"colab-df-convert\" onclick=\"convertToInteractive('df-0f1926ac-9312-4fb9-9f3b-53e8cd8a7df2')\"\n",
              "              title=\"Convert this dataframe to an interactive table.\"\n",
              "              style=\"display:none;\">\n",
              "        \n",
              "  <svg xmlns=\"http://www.w3.org/2000/svg\" height=\"24px\"viewBox=\"0 0 24 24\"\n",
              "       width=\"24px\">\n",
              "    <path d=\"M0 0h24v24H0V0z\" fill=\"none\"/>\n",
              "    <path d=\"M18.56 5.44l.94 2.06.94-2.06 2.06-.94-2.06-.94-.94-2.06-.94 2.06-2.06.94zm-11 1L8.5 8.5l.94-2.06 2.06-.94-2.06-.94L8.5 2.5l-.94 2.06-2.06.94zm10 10l.94 2.06.94-2.06 2.06-.94-2.06-.94-.94-2.06-.94 2.06-2.06.94z\"/><path d=\"M17.41 7.96l-1.37-1.37c-.4-.4-.92-.59-1.43-.59-.52 0-1.04.2-1.43.59L10.3 9.45l-7.72 7.72c-.78.78-.78 2.05 0 2.83L4 21.41c.39.39.9.59 1.41.59.51 0 1.02-.2 1.41-.59l7.78-7.78 2.81-2.81c.8-.78.8-2.07 0-2.86zM5.41 20L4 18.59l7.72-7.72 1.47 1.35L5.41 20z\"/>\n",
              "  </svg>\n",
              "      </button>\n",
              "      \n",
              "  <style>\n",
              "    .colab-df-container {\n",
              "      display:flex;\n",
              "      flex-wrap:wrap;\n",
              "      gap: 12px;\n",
              "    }\n",
              "\n",
              "    .colab-df-convert {\n",
              "      background-color: #E8F0FE;\n",
              "      border: none;\n",
              "      border-radius: 50%;\n",
              "      cursor: pointer;\n",
              "      display: none;\n",
              "      fill: #1967D2;\n",
              "      height: 32px;\n",
              "      padding: 0 0 0 0;\n",
              "      width: 32px;\n",
              "    }\n",
              "\n",
              "    .colab-df-convert:hover {\n",
              "      background-color: #E2EBFA;\n",
              "      box-shadow: 0px 1px 2px rgba(60, 64, 67, 0.3), 0px 1px 3px 1px rgba(60, 64, 67, 0.15);\n",
              "      fill: #174EA6;\n",
              "    }\n",
              "\n",
              "    [theme=dark] .colab-df-convert {\n",
              "      background-color: #3B4455;\n",
              "      fill: #D2E3FC;\n",
              "    }\n",
              "\n",
              "    [theme=dark] .colab-df-convert:hover {\n",
              "      background-color: #434B5C;\n",
              "      box-shadow: 0px 1px 3px 1px rgba(0, 0, 0, 0.15);\n",
              "      filter: drop-shadow(0px 1px 2px rgba(0, 0, 0, 0.3));\n",
              "      fill: #FFFFFF;\n",
              "    }\n",
              "  </style>\n",
              "\n",
              "      <script>\n",
              "        const buttonEl =\n",
              "          document.querySelector('#df-0f1926ac-9312-4fb9-9f3b-53e8cd8a7df2 button.colab-df-convert');\n",
              "        buttonEl.style.display =\n",
              "          google.colab.kernel.accessAllowed ? 'block' : 'none';\n",
              "\n",
              "        async function convertToInteractive(key) {\n",
              "          const element = document.querySelector('#df-0f1926ac-9312-4fb9-9f3b-53e8cd8a7df2');\n",
              "          const dataTable =\n",
              "            await google.colab.kernel.invokeFunction('convertToInteractive',\n",
              "                                                     [key], {});\n",
              "          if (!dataTable) return;\n",
              "\n",
              "          const docLinkHtml = 'Like what you see? Visit the ' +\n",
              "            '<a target=\"_blank\" href=https://colab.research.google.com/notebooks/data_table.ipynb>data table notebook</a>'\n",
              "            + ' to learn more about interactive tables.';\n",
              "          element.innerHTML = '';\n",
              "          dataTable['output_type'] = 'display_data';\n",
              "          await google.colab.output.renderOutput(dataTable, element);\n",
              "          const docLink = document.createElement('div');\n",
              "          docLink.innerHTML = docLinkHtml;\n",
              "          element.appendChild(docLink);\n",
              "        }\n",
              "      </script>\n",
              "    </div>\n",
              "  </div>\n",
              "  "
            ]
          },
          "metadata": {},
          "execution_count": 443
        }
      ]
    },
    {
      "cell_type": "code",
      "source": [
        "IS=pd.get_dummies(dataset[\"InternetService\"],drop_first=True)"
      ],
      "metadata": {
        "colab": {
          "base_uri": "https://localhost:8080/",
          "height": 17
        },
        "id": "Y7N137Pb8AHI",
        "outputId": "bfacfa26-feb7-435a-81c7-8170342b685c"
      },
      "execution_count": 444,
      "outputs": [
        {
          "output_type": "display_data",
          "data": {
            "text/plain": [
              "<IPython.core.display.Javascript object>"
            ],
            "application/javascript": [
              "\n",
              "        if (window._pyforest_update_imports_cell) { window._pyforest_update_imports_cell('from sklearn.model_selection import KFold\\nfrom sklearn.feature_extraction.text import TfidfVectorizer\\nimport nltk\\nfrom sklearn.ensemble import GradientBoostingRegressor\\nfrom sklearn.linear_model import ElasticNetCV\\nfrom sklearn.cluster import KMeans\\nimport bokeh\\nfrom PIL import Image\\nfrom sklearn.preprocessing import LabelEncoder\\nfrom sklearn.preprocessing import OneHotEncoder\\nfrom scipy import signal as sg\\nimport pandas as pd\\nimport matplotlib as mpl\\nfrom sklearn import svm\\nimport sys\\nfrom scipy import stats\\nimport altair as alt\\nfrom sklearn.model_selection import train_test_split\\nfrom sklearn.linear_model import ElasticNet\\nimport seaborn as sns\\nfrom sklearn.preprocessing import StandardScaler\\nimport torch\\nfrom sklearn.model_selection import cross_val_score\\nimport numpy as np\\nfrom sklearn import metrics\\nimport gensim\\nimport matplotlib.pyplot as plt\\nimport tqdm\\nimport sklearn\\nimport pydot\\nfrom sklearn.decomposition import PCA\\nfrom sklearn.ensemble import GradientBoostingClassifier\\nimport os\\nimport fastai\\nfrom statsmodels.tsa.arima_model import ARIMA\\nfrom sklearn.manifold import TSNE\\nimport xgboost as xgb\\nfrom sklearn.linear_model import LassoCV\\nimport pickle\\nimport re\\nfrom sklearn.model_selection import GridSearchCV\\nimport skimage\\nimport imutils\\nfrom sklearn.feature_extraction.text import CountVectorizer\\nimport spacy\\nfrom xlrd import open_workbook\\nfrom openpyxl import load_workbook\\nimport statistics\\nfrom sklearn.preprocessing import PolynomialFeatures\\nimport cv2\\nfrom sklearn.preprocessing import MinMaxScaler\\nfrom sklearn.linear_model import LinearRegression\\nimport plotly as py\\nfrom pathlib import Path\\nfrom sklearn.linear_model import LogisticRegression\\nimport plotly.express as px\\nimport statsmodels.api as sm\\nimport tensorflow as tf\\nfrom sklearn.linear_model import Lasso\\nimport textblob\\nimport lightgbm as lgb'); }\n",
              "    "
            ]
          },
          "metadata": {}
        }
      ]
    },
    {
      "cell_type": "code",
      "source": [
        "dataset.drop([\"InternetService\"],axis=1,inplace=True)"
      ],
      "metadata": {
        "id": "8BXGE7np8RJu"
      },
      "execution_count": 445,
      "outputs": []
    },
    {
      "cell_type": "code",
      "source": [
        "dataset=pd.concat([dataset,IS],axis=1)"
      ],
      "metadata": {
        "colab": {
          "base_uri": "https://localhost:8080/",
          "height": 17
        },
        "id": "3q_qsWZF8tio",
        "outputId": "47167aad-8100-4bca-ead5-4fdfe729b131"
      },
      "execution_count": 446,
      "outputs": [
        {
          "output_type": "display_data",
          "data": {
            "text/plain": [
              "<IPython.core.display.Javascript object>"
            ],
            "application/javascript": [
              "\n",
              "        if (window._pyforest_update_imports_cell) { window._pyforest_update_imports_cell('from sklearn.model_selection import KFold\\nfrom sklearn.feature_extraction.text import TfidfVectorizer\\nimport nltk\\nfrom sklearn.ensemble import GradientBoostingRegressor\\nfrom sklearn.linear_model import ElasticNetCV\\nfrom sklearn.cluster import KMeans\\nimport bokeh\\nfrom PIL import Image\\nfrom sklearn.preprocessing import LabelEncoder\\nfrom sklearn.preprocessing import OneHotEncoder\\nfrom scipy import signal as sg\\nimport pandas as pd\\nimport matplotlib as mpl\\nfrom sklearn import svm\\nimport sys\\nfrom scipy import stats\\nimport altair as alt\\nfrom sklearn.model_selection import train_test_split\\nfrom sklearn.linear_model import ElasticNet\\nimport seaborn as sns\\nfrom sklearn.preprocessing import StandardScaler\\nimport torch\\nfrom sklearn.model_selection import cross_val_score\\nimport numpy as np\\nfrom sklearn import metrics\\nimport gensim\\nimport matplotlib.pyplot as plt\\nimport tqdm\\nimport sklearn\\nimport pydot\\nfrom sklearn.decomposition import PCA\\nfrom sklearn.ensemble import GradientBoostingClassifier\\nimport os\\nimport fastai\\nfrom statsmodels.tsa.arima_model import ARIMA\\nfrom sklearn.manifold import TSNE\\nimport xgboost as xgb\\nfrom sklearn.linear_model import LassoCV\\nimport pickle\\nimport re\\nfrom sklearn.model_selection import GridSearchCV\\nimport skimage\\nimport imutils\\nfrom sklearn.feature_extraction.text import CountVectorizer\\nimport spacy\\nfrom xlrd import open_workbook\\nfrom openpyxl import load_workbook\\nimport statistics\\nfrom sklearn.preprocessing import PolynomialFeatures\\nimport cv2\\nfrom sklearn.preprocessing import MinMaxScaler\\nfrom sklearn.linear_model import LinearRegression\\nimport plotly as py\\nfrom pathlib import Path\\nfrom sklearn.linear_model import LogisticRegression\\nimport plotly.express as px\\nimport statsmodels.api as sm\\nimport tensorflow as tf\\nfrom sklearn.linear_model import Lasso\\nimport textblob\\nimport lightgbm as lgb'); }\n",
              "    "
            ]
          },
          "metadata": {}
        }
      ]
    },
    {
      "cell_type": "code",
      "source": [
        "dataset[\"Contract\"].replace({\"Month-to-month\":0,\"One year\":1,\"Two year\":2},inplace=True)"
      ],
      "metadata": {
        "id": "VqOwyorB87xl"
      },
      "execution_count": 447,
      "outputs": []
    },
    {
      "cell_type": "code",
      "source": [
        "dataset[\"PaymentMethod\"]=dataset[\"PaymentMethod\"].map({\"Electronic check\":1,\"Mailed check\":2,\"Bank transfer (automatic)\":3,\"Credit card (automatic)\":4})"
      ],
      "metadata": {
        "id": "2TcKUpWs8zGJ"
      },
      "execution_count": 448,
      "outputs": []
    },
    {
      "cell_type": "code",
      "source": [
        "dataset.head()"
      ],
      "metadata": {
        "colab": {
          "base_uri": "https://localhost:8080/",
          "height": 287
        },
        "id": "QZ5eA1vb-Z89",
        "outputId": "a21f5935-6218-436a-b699-f924c86330e4"
      },
      "execution_count": 449,
      "outputs": [
        {
          "output_type": "execute_result",
          "data": {
            "text/plain": [
              "   gender  SeniorCitizen  Partner  ...  Churn  Fiber optic  No\n",
              "0       1              0        1  ...      0            0   0\n",
              "1       0              0        0  ...      0            0   0\n",
              "2       0              0        0  ...      1            0   0\n",
              "3       0              0        0  ...      0            0   0\n",
              "4       1              0        0  ...      1            1   0\n",
              "\n",
              "[5 rows x 21 columns]"
            ],
            "text/html": [
              "\n",
              "  <div id=\"df-9329a3fb-4873-458a-8056-c6f471f3db6d\">\n",
              "    <div class=\"colab-df-container\">\n",
              "      <div>\n",
              "<style scoped>\n",
              "    .dataframe tbody tr th:only-of-type {\n",
              "        vertical-align: middle;\n",
              "    }\n",
              "\n",
              "    .dataframe tbody tr th {\n",
              "        vertical-align: top;\n",
              "    }\n",
              "\n",
              "    .dataframe thead th {\n",
              "        text-align: right;\n",
              "    }\n",
              "</style>\n",
              "<table border=\"1\" class=\"dataframe\">\n",
              "  <thead>\n",
              "    <tr style=\"text-align: right;\">\n",
              "      <th></th>\n",
              "      <th>gender</th>\n",
              "      <th>SeniorCitizen</th>\n",
              "      <th>Partner</th>\n",
              "      <th>Dependents</th>\n",
              "      <th>tenure</th>\n",
              "      <th>PhoneService</th>\n",
              "      <th>MultipleLines</th>\n",
              "      <th>OnlineSecurity</th>\n",
              "      <th>OnlineBackup</th>\n",
              "      <th>DeviceProtection</th>\n",
              "      <th>TechSupport</th>\n",
              "      <th>StreamingTV</th>\n",
              "      <th>StreamingMovies</th>\n",
              "      <th>Contract</th>\n",
              "      <th>PaperlessBilling</th>\n",
              "      <th>PaymentMethod</th>\n",
              "      <th>MonthlyCharges</th>\n",
              "      <th>TotalCharges</th>\n",
              "      <th>Churn</th>\n",
              "      <th>Fiber optic</th>\n",
              "      <th>No</th>\n",
              "    </tr>\n",
              "  </thead>\n",
              "  <tbody>\n",
              "    <tr>\n",
              "      <th>0</th>\n",
              "      <td>1</td>\n",
              "      <td>0</td>\n",
              "      <td>1</td>\n",
              "      <td>0</td>\n",
              "      <td>1</td>\n",
              "      <td>0</td>\n",
              "      <td>0</td>\n",
              "      <td>0</td>\n",
              "      <td>1</td>\n",
              "      <td>0</td>\n",
              "      <td>0</td>\n",
              "      <td>0</td>\n",
              "      <td>0</td>\n",
              "      <td>0</td>\n",
              "      <td>1</td>\n",
              "      <td>1</td>\n",
              "      <td>29.85</td>\n",
              "      <td>29.85</td>\n",
              "      <td>0</td>\n",
              "      <td>0</td>\n",
              "      <td>0</td>\n",
              "    </tr>\n",
              "    <tr>\n",
              "      <th>1</th>\n",
              "      <td>0</td>\n",
              "      <td>0</td>\n",
              "      <td>0</td>\n",
              "      <td>0</td>\n",
              "      <td>34</td>\n",
              "      <td>1</td>\n",
              "      <td>0</td>\n",
              "      <td>1</td>\n",
              "      <td>0</td>\n",
              "      <td>1</td>\n",
              "      <td>0</td>\n",
              "      <td>0</td>\n",
              "      <td>0</td>\n",
              "      <td>1</td>\n",
              "      <td>0</td>\n",
              "      <td>2</td>\n",
              "      <td>56.95</td>\n",
              "      <td>1889.5</td>\n",
              "      <td>0</td>\n",
              "      <td>0</td>\n",
              "      <td>0</td>\n",
              "    </tr>\n",
              "    <tr>\n",
              "      <th>2</th>\n",
              "      <td>0</td>\n",
              "      <td>0</td>\n",
              "      <td>0</td>\n",
              "      <td>0</td>\n",
              "      <td>2</td>\n",
              "      <td>1</td>\n",
              "      <td>0</td>\n",
              "      <td>1</td>\n",
              "      <td>1</td>\n",
              "      <td>0</td>\n",
              "      <td>0</td>\n",
              "      <td>0</td>\n",
              "      <td>0</td>\n",
              "      <td>0</td>\n",
              "      <td>1</td>\n",
              "      <td>2</td>\n",
              "      <td>53.85</td>\n",
              "      <td>108.15</td>\n",
              "      <td>1</td>\n",
              "      <td>0</td>\n",
              "      <td>0</td>\n",
              "    </tr>\n",
              "    <tr>\n",
              "      <th>3</th>\n",
              "      <td>0</td>\n",
              "      <td>0</td>\n",
              "      <td>0</td>\n",
              "      <td>0</td>\n",
              "      <td>45</td>\n",
              "      <td>0</td>\n",
              "      <td>0</td>\n",
              "      <td>1</td>\n",
              "      <td>0</td>\n",
              "      <td>1</td>\n",
              "      <td>1</td>\n",
              "      <td>0</td>\n",
              "      <td>0</td>\n",
              "      <td>1</td>\n",
              "      <td>0</td>\n",
              "      <td>3</td>\n",
              "      <td>42.30</td>\n",
              "      <td>1840.75</td>\n",
              "      <td>0</td>\n",
              "      <td>0</td>\n",
              "      <td>0</td>\n",
              "    </tr>\n",
              "    <tr>\n",
              "      <th>4</th>\n",
              "      <td>1</td>\n",
              "      <td>0</td>\n",
              "      <td>0</td>\n",
              "      <td>0</td>\n",
              "      <td>2</td>\n",
              "      <td>1</td>\n",
              "      <td>0</td>\n",
              "      <td>0</td>\n",
              "      <td>0</td>\n",
              "      <td>0</td>\n",
              "      <td>0</td>\n",
              "      <td>0</td>\n",
              "      <td>0</td>\n",
              "      <td>0</td>\n",
              "      <td>1</td>\n",
              "      <td>1</td>\n",
              "      <td>70.70</td>\n",
              "      <td>151.65</td>\n",
              "      <td>1</td>\n",
              "      <td>1</td>\n",
              "      <td>0</td>\n",
              "    </tr>\n",
              "  </tbody>\n",
              "</table>\n",
              "</div>\n",
              "      <button class=\"colab-df-convert\" onclick=\"convertToInteractive('df-9329a3fb-4873-458a-8056-c6f471f3db6d')\"\n",
              "              title=\"Convert this dataframe to an interactive table.\"\n",
              "              style=\"display:none;\">\n",
              "        \n",
              "  <svg xmlns=\"http://www.w3.org/2000/svg\" height=\"24px\"viewBox=\"0 0 24 24\"\n",
              "       width=\"24px\">\n",
              "    <path d=\"M0 0h24v24H0V0z\" fill=\"none\"/>\n",
              "    <path d=\"M18.56 5.44l.94 2.06.94-2.06 2.06-.94-2.06-.94-.94-2.06-.94 2.06-2.06.94zm-11 1L8.5 8.5l.94-2.06 2.06-.94-2.06-.94L8.5 2.5l-.94 2.06-2.06.94zm10 10l.94 2.06.94-2.06 2.06-.94-2.06-.94-.94-2.06-.94 2.06-2.06.94z\"/><path d=\"M17.41 7.96l-1.37-1.37c-.4-.4-.92-.59-1.43-.59-.52 0-1.04.2-1.43.59L10.3 9.45l-7.72 7.72c-.78.78-.78 2.05 0 2.83L4 21.41c.39.39.9.59 1.41.59.51 0 1.02-.2 1.41-.59l7.78-7.78 2.81-2.81c.8-.78.8-2.07 0-2.86zM5.41 20L4 18.59l7.72-7.72 1.47 1.35L5.41 20z\"/>\n",
              "  </svg>\n",
              "      </button>\n",
              "      \n",
              "  <style>\n",
              "    .colab-df-container {\n",
              "      display:flex;\n",
              "      flex-wrap:wrap;\n",
              "      gap: 12px;\n",
              "    }\n",
              "\n",
              "    .colab-df-convert {\n",
              "      background-color: #E8F0FE;\n",
              "      border: none;\n",
              "      border-radius: 50%;\n",
              "      cursor: pointer;\n",
              "      display: none;\n",
              "      fill: #1967D2;\n",
              "      height: 32px;\n",
              "      padding: 0 0 0 0;\n",
              "      width: 32px;\n",
              "    }\n",
              "\n",
              "    .colab-df-convert:hover {\n",
              "      background-color: #E2EBFA;\n",
              "      box-shadow: 0px 1px 2px rgba(60, 64, 67, 0.3), 0px 1px 3px 1px rgba(60, 64, 67, 0.15);\n",
              "      fill: #174EA6;\n",
              "    }\n",
              "\n",
              "    [theme=dark] .colab-df-convert {\n",
              "      background-color: #3B4455;\n",
              "      fill: #D2E3FC;\n",
              "    }\n",
              "\n",
              "    [theme=dark] .colab-df-convert:hover {\n",
              "      background-color: #434B5C;\n",
              "      box-shadow: 0px 1px 3px 1px rgba(0, 0, 0, 0.15);\n",
              "      filter: drop-shadow(0px 1px 2px rgba(0, 0, 0, 0.3));\n",
              "      fill: #FFFFFF;\n",
              "    }\n",
              "  </style>\n",
              "\n",
              "      <script>\n",
              "        const buttonEl =\n",
              "          document.querySelector('#df-9329a3fb-4873-458a-8056-c6f471f3db6d button.colab-df-convert');\n",
              "        buttonEl.style.display =\n",
              "          google.colab.kernel.accessAllowed ? 'block' : 'none';\n",
              "\n",
              "        async function convertToInteractive(key) {\n",
              "          const element = document.querySelector('#df-9329a3fb-4873-458a-8056-c6f471f3db6d');\n",
              "          const dataTable =\n",
              "            await google.colab.kernel.invokeFunction('convertToInteractive',\n",
              "                                                     [key], {});\n",
              "          if (!dataTable) return;\n",
              "\n",
              "          const docLinkHtml = 'Like what you see? Visit the ' +\n",
              "            '<a target=\"_blank\" href=https://colab.research.google.com/notebooks/data_table.ipynb>data table notebook</a>'\n",
              "            + ' to learn more about interactive tables.';\n",
              "          element.innerHTML = '';\n",
              "          dataTable['output_type'] = 'display_data';\n",
              "          await google.colab.output.renderOutput(dataTable, element);\n",
              "          const docLink = document.createElement('div');\n",
              "          docLink.innerHTML = docLinkHtml;\n",
              "          element.appendChild(docLink);\n",
              "        }\n",
              "      </script>\n",
              "    </div>\n",
              "  </div>\n",
              "  "
            ]
          },
          "metadata": {},
          "execution_count": 449
        }
      ]
    },
    {
      "cell_type": "code",
      "source": [
        "numeric=[\"tenure\",\"MonthlyCharges\",\"TotalCharges\"]"
      ],
      "metadata": {
        "id": "atCD7Kdg-geW"
      },
      "execution_count": 450,
      "outputs": []
    },
    {
      "cell_type": "code",
      "source": [
        "dataset.dtypes\n",
        "  "
      ],
      "metadata": {
        "colab": {
          "base_uri": "https://localhost:8080/"
        },
        "id": "lW6tbyP1_PnX",
        "outputId": "edbc67d3-405c-4e7d-a39d-39953ac49015"
      },
      "execution_count": 451,
      "outputs": [
        {
          "output_type": "execute_result",
          "data": {
            "text/plain": [
              "gender                int64\n",
              "SeniorCitizen         int64\n",
              "Partner               int64\n",
              "Dependents            int64\n",
              "tenure                int64\n",
              "PhoneService          int64\n",
              "MultipleLines         int64\n",
              "OnlineSecurity        int64\n",
              "OnlineBackup          int64\n",
              "DeviceProtection      int64\n",
              "TechSupport           int64\n",
              "StreamingTV           int64\n",
              "StreamingMovies       int64\n",
              "Contract              int64\n",
              "PaperlessBilling      int64\n",
              "PaymentMethod         int64\n",
              "MonthlyCharges      float64\n",
              "TotalCharges         object\n",
              "Churn                 int64\n",
              "Fiber optic           uint8\n",
              "No                    uint8\n",
              "dtype: object"
            ]
          },
          "metadata": {},
          "execution_count": 451
        }
      ]
    },
    {
      "cell_type": "code",
      "source": [
        "dataset[\"tenure\"] = dataset[\"tenure\"].astype(float)\n",
        "dataset[\"MonthlyCharges\"] = dataset[\"MonthlyCharges\"].astype(float)\n"
      ],
      "metadata": {
        "id": "F_xSSQEN_UIH"
      },
      "execution_count": 452,
      "outputs": []
    },
    {
      "cell_type": "code",
      "source": [
        "dataset[\"TotalCharges\"] = pd.to_numeric(dataset[\"TotalCharges\"],errors='coerce')"
      ],
      "metadata": {
        "colab": {
          "base_uri": "https://localhost:8080/",
          "height": 17
        },
        "id": "3fuqNbfkAJOg",
        "outputId": "79c31f7d-dd2b-4f7e-f469-5725b027bee3"
      },
      "execution_count": 453,
      "outputs": [
        {
          "output_type": "display_data",
          "data": {
            "text/plain": [
              "<IPython.core.display.Javascript object>"
            ],
            "application/javascript": [
              "\n",
              "        if (window._pyforest_update_imports_cell) { window._pyforest_update_imports_cell('from sklearn.model_selection import KFold\\nfrom sklearn.feature_extraction.text import TfidfVectorizer\\nimport nltk\\nfrom sklearn.ensemble import GradientBoostingRegressor\\nfrom sklearn.linear_model import ElasticNetCV\\nfrom sklearn.cluster import KMeans\\nimport bokeh\\nfrom PIL import Image\\nfrom sklearn.preprocessing import LabelEncoder\\nfrom sklearn.preprocessing import OneHotEncoder\\nfrom scipy import signal as sg\\nimport pandas as pd\\nimport matplotlib as mpl\\nfrom sklearn import svm\\nimport sys\\nfrom scipy import stats\\nimport altair as alt\\nfrom sklearn.model_selection import train_test_split\\nfrom sklearn.linear_model import ElasticNet\\nimport seaborn as sns\\nfrom sklearn.preprocessing import StandardScaler\\nimport torch\\nfrom sklearn.model_selection import cross_val_score\\nimport numpy as np\\nfrom sklearn import metrics\\nimport gensim\\nimport matplotlib.pyplot as plt\\nimport tqdm\\nimport sklearn\\nimport pydot\\nfrom sklearn.decomposition import PCA\\nfrom sklearn.ensemble import GradientBoostingClassifier\\nimport os\\nimport fastai\\nfrom statsmodels.tsa.arima_model import ARIMA\\nfrom sklearn.manifold import TSNE\\nimport xgboost as xgb\\nfrom sklearn.linear_model import LassoCV\\nimport pickle\\nimport re\\nfrom sklearn.model_selection import GridSearchCV\\nimport skimage\\nimport imutils\\nfrom sklearn.feature_extraction.text import CountVectorizer\\nimport spacy\\nfrom xlrd import open_workbook\\nfrom openpyxl import load_workbook\\nimport statistics\\nfrom sklearn.preprocessing import PolynomialFeatures\\nimport cv2\\nfrom sklearn.preprocessing import MinMaxScaler\\nfrom sklearn.linear_model import LinearRegression\\nimport plotly as py\\nfrom pathlib import Path\\nfrom sklearn.linear_model import LogisticRegression\\nimport plotly.express as px\\nimport statsmodels.api as sm\\nimport tensorflow as tf\\nfrom sklearn.linear_model import Lasso\\nimport textblob\\nimport lightgbm as lgb'); }\n",
              "    "
            ]
          },
          "metadata": {}
        }
      ]
    },
    {
      "cell_type": "code",
      "source": [
        "dataset.dtypes"
      ],
      "metadata": {
        "colab": {
          "base_uri": "https://localhost:8080/"
        },
        "id": "ZMwTEFsDBBv3",
        "outputId": "b453034d-8bf1-441e-9ac1-e8d573c8ad76"
      },
      "execution_count": 454,
      "outputs": [
        {
          "output_type": "execute_result",
          "data": {
            "text/plain": [
              "gender                int64\n",
              "SeniorCitizen         int64\n",
              "Partner               int64\n",
              "Dependents            int64\n",
              "tenure              float64\n",
              "PhoneService          int64\n",
              "MultipleLines         int64\n",
              "OnlineSecurity        int64\n",
              "OnlineBackup          int64\n",
              "DeviceProtection      int64\n",
              "TechSupport           int64\n",
              "StreamingTV           int64\n",
              "StreamingMovies       int64\n",
              "Contract              int64\n",
              "PaperlessBilling      int64\n",
              "PaymentMethod         int64\n",
              "MonthlyCharges      float64\n",
              "TotalCharges        float64\n",
              "Churn                 int64\n",
              "Fiber optic           uint8\n",
              "No                    uint8\n",
              "dtype: object"
            ]
          },
          "metadata": {},
          "execution_count": 454
        }
      ]
    },
    {
      "cell_type": "code",
      "source": [
        "for i in numeric:\n",
        "  plt.boxplot(dataset[i])\n",
        "  plt.xlabel(i)\n",
        "  plt.show()"
      ],
      "metadata": {
        "colab": {
          "base_uri": "https://localhost:8080/",
          "height": 803
        },
        "id": "6_4kx849BzsV",
        "outputId": "e5cb0d29-676e-4b33-84b0-fa9263febc75"
      },
      "execution_count": 455,
      "outputs": [
        {
          "output_type": "display_data",
          "data": {
            "text/plain": [
              "<IPython.core.display.Javascript object>"
            ],
            "application/javascript": [
              "\n",
              "        if (window._pyforest_update_imports_cell) { window._pyforest_update_imports_cell('from sklearn.model_selection import KFold\\nfrom sklearn.feature_extraction.text import TfidfVectorizer\\nimport nltk\\nfrom sklearn.ensemble import GradientBoostingRegressor\\nfrom sklearn.linear_model import ElasticNetCV\\nfrom sklearn.cluster import KMeans\\nimport bokeh\\nfrom PIL import Image\\nfrom sklearn.preprocessing import LabelEncoder\\nfrom sklearn.preprocessing import OneHotEncoder\\nfrom scipy import signal as sg\\nimport pandas as pd\\nimport matplotlib as mpl\\nfrom sklearn import svm\\nimport sys\\nfrom scipy import stats\\nimport altair as alt\\nfrom sklearn.model_selection import train_test_split\\nfrom sklearn.linear_model import ElasticNet\\nimport seaborn as sns\\nfrom sklearn.preprocessing import StandardScaler\\nimport torch\\nfrom sklearn.model_selection import cross_val_score\\nimport numpy as np\\nfrom sklearn import metrics\\nimport gensim\\nimport matplotlib.pyplot as plt\\nimport tqdm\\nimport sklearn\\nimport pydot\\nfrom sklearn.decomposition import PCA\\nfrom sklearn.ensemble import GradientBoostingClassifier\\nimport os\\nimport fastai\\nfrom statsmodels.tsa.arima_model import ARIMA\\nfrom sklearn.manifold import TSNE\\nimport xgboost as xgb\\nfrom sklearn.linear_model import LassoCV\\nimport pickle\\nimport re\\nfrom sklearn.model_selection import GridSearchCV\\nimport skimage\\nimport imutils\\nfrom sklearn.feature_extraction.text import CountVectorizer\\nimport spacy\\nfrom xlrd import open_workbook\\nfrom openpyxl import load_workbook\\nimport statistics\\nfrom sklearn.preprocessing import PolynomialFeatures\\nimport cv2\\nfrom sklearn.preprocessing import MinMaxScaler\\nfrom sklearn.linear_model import LinearRegression\\nimport plotly as py\\nfrom pathlib import Path\\nfrom sklearn.linear_model import LogisticRegression\\nimport plotly.express as px\\nimport statsmodels.api as sm\\nimport tensorflow as tf\\nfrom sklearn.linear_model import Lasso\\nimport textblob\\nimport lightgbm as lgb'); }\n",
              "    "
            ]
          },
          "metadata": {}
        },
        {
          "output_type": "display_data",
          "data": {
            "text/plain": [
              "<IPython.core.display.Javascript object>"
            ],
            "application/javascript": [
              "\n",
              "        if (window._pyforest_update_imports_cell) { window._pyforest_update_imports_cell('from sklearn.model_selection import KFold\\nfrom sklearn.feature_extraction.text import TfidfVectorizer\\nimport nltk\\nfrom sklearn.ensemble import GradientBoostingRegressor\\nfrom sklearn.linear_model import ElasticNetCV\\nfrom sklearn.cluster import KMeans\\nimport bokeh\\nfrom PIL import Image\\nfrom sklearn.preprocessing import LabelEncoder\\nfrom sklearn.preprocessing import OneHotEncoder\\nfrom scipy import signal as sg\\nimport pandas as pd\\nimport matplotlib as mpl\\nfrom sklearn import svm\\nimport sys\\nfrom scipy import stats\\nimport altair as alt\\nfrom sklearn.model_selection import train_test_split\\nfrom sklearn.linear_model import ElasticNet\\nimport seaborn as sns\\nfrom sklearn.preprocessing import StandardScaler\\nimport torch\\nfrom sklearn.model_selection import cross_val_score\\nimport numpy as np\\nfrom sklearn import metrics\\nimport gensim\\nimport matplotlib.pyplot as plt\\nimport tqdm\\nimport sklearn\\nimport pydot\\nfrom sklearn.decomposition import PCA\\nfrom sklearn.ensemble import GradientBoostingClassifier\\nimport os\\nimport fastai\\nfrom statsmodels.tsa.arima_model import ARIMA\\nfrom sklearn.manifold import TSNE\\nimport xgboost as xgb\\nfrom sklearn.linear_model import LassoCV\\nimport pickle\\nimport re\\nfrom sklearn.model_selection import GridSearchCV\\nimport skimage\\nimport imutils\\nfrom sklearn.feature_extraction.text import CountVectorizer\\nimport spacy\\nfrom xlrd import open_workbook\\nfrom openpyxl import load_workbook\\nimport statistics\\nfrom sklearn.preprocessing import PolynomialFeatures\\nimport cv2\\nfrom sklearn.preprocessing import MinMaxScaler\\nfrom sklearn.linear_model import LinearRegression\\nimport plotly as py\\nfrom pathlib import Path\\nfrom sklearn.linear_model import LogisticRegression\\nimport plotly.express as px\\nimport statsmodels.api as sm\\nimport tensorflow as tf\\nfrom sklearn.linear_model import Lasso\\nimport textblob\\nimport lightgbm as lgb'); }\n",
              "    "
            ]
          },
          "metadata": {}
        },
        {
          "output_type": "display_data",
          "data": {
            "text/plain": [
              "<IPython.core.display.Javascript object>"
            ],
            "application/javascript": [
              "\n",
              "        if (window._pyforest_update_imports_cell) { window._pyforest_update_imports_cell('from sklearn.model_selection import KFold\\nfrom sklearn.feature_extraction.text import TfidfVectorizer\\nimport nltk\\nfrom sklearn.ensemble import GradientBoostingRegressor\\nfrom sklearn.linear_model import ElasticNetCV\\nfrom sklearn.cluster import KMeans\\nimport bokeh\\nfrom PIL import Image\\nfrom sklearn.preprocessing import LabelEncoder\\nfrom sklearn.preprocessing import OneHotEncoder\\nfrom scipy import signal as sg\\nimport pandas as pd\\nimport matplotlib as mpl\\nfrom sklearn import svm\\nimport sys\\nfrom scipy import stats\\nimport altair as alt\\nfrom sklearn.model_selection import train_test_split\\nfrom sklearn.linear_model import ElasticNet\\nimport seaborn as sns\\nfrom sklearn.preprocessing import StandardScaler\\nimport torch\\nfrom sklearn.model_selection import cross_val_score\\nimport numpy as np\\nfrom sklearn import metrics\\nimport gensim\\nimport matplotlib.pyplot as plt\\nimport tqdm\\nimport sklearn\\nimport pydot\\nfrom sklearn.decomposition import PCA\\nfrom sklearn.ensemble import GradientBoostingClassifier\\nimport os\\nimport fastai\\nfrom statsmodels.tsa.arima_model import ARIMA\\nfrom sklearn.manifold import TSNE\\nimport xgboost as xgb\\nfrom sklearn.linear_model import LassoCV\\nimport pickle\\nimport re\\nfrom sklearn.model_selection import GridSearchCV\\nimport skimage\\nimport imutils\\nfrom sklearn.feature_extraction.text import CountVectorizer\\nimport spacy\\nfrom xlrd import open_workbook\\nfrom openpyxl import load_workbook\\nimport statistics\\nfrom sklearn.preprocessing import PolynomialFeatures\\nimport cv2\\nfrom sklearn.preprocessing import MinMaxScaler\\nfrom sklearn.linear_model import LinearRegression\\nimport plotly as py\\nfrom pathlib import Path\\nfrom sklearn.linear_model import LogisticRegression\\nimport plotly.express as px\\nimport statsmodels.api as sm\\nimport tensorflow as tf\\nfrom sklearn.linear_model import Lasso\\nimport textblob\\nimport lightgbm as lgb'); }\n",
              "    "
            ]
          },
          "metadata": {}
        },
        {
          "output_type": "display_data",
          "data": {
            "text/plain": [
              "<Figure size 432x288 with 1 Axes>"
            ],
            "image/png": "[encoded data removed]"
          },
          "metadata": {
            "needs_background": "light"
          }
        },
        {
          "output_type": "display_data",
          "data": {
            "text/plain": [
              "<IPython.core.display.Javascript object>"
            ],
            "application/javascript": [
              "\n",
              "        if (window._pyforest_update_imports_cell) { window._pyforest_update_imports_cell('from sklearn.model_selection import KFold\\nfrom sklearn.feature_extraction.text import TfidfVectorizer\\nimport nltk\\nfrom sklearn.ensemble import GradientBoostingRegressor\\nfrom sklearn.linear_model import ElasticNetCV\\nfrom sklearn.cluster import KMeans\\nimport bokeh\\nfrom PIL import Image\\nfrom sklearn.preprocessing import LabelEncoder\\nfrom sklearn.preprocessing import OneHotEncoder\\nfrom scipy import signal as sg\\nimport pandas as pd\\nimport matplotlib as mpl\\nfrom sklearn import svm\\nimport sys\\nfrom scipy import stats\\nimport altair as alt\\nfrom sklearn.model_selection import train_test_split\\nfrom sklearn.linear_model import ElasticNet\\nimport seaborn as sns\\nfrom sklearn.preprocessing import StandardScaler\\nimport torch\\nfrom sklearn.model_selection import cross_val_score\\nimport numpy as np\\nfrom sklearn import metrics\\nimport gensim\\nimport matplotlib.pyplot as plt\\nimport tqdm\\nimport sklearn\\nimport pydot\\nfrom sklearn.decomposition import PCA\\nfrom sklearn.ensemble import GradientBoostingClassifier\\nimport os\\nimport fastai\\nfrom statsmodels.tsa.arima_model import ARIMA\\nfrom sklearn.manifold import TSNE\\nimport xgboost as xgb\\nfrom sklearn.linear_model import LassoCV\\nimport pickle\\nimport re\\nfrom sklearn.model_selection import GridSearchCV\\nimport skimage\\nimport imutils\\nfrom sklearn.feature_extraction.text import CountVectorizer\\nimport spacy\\nfrom xlrd import open_workbook\\nfrom openpyxl import load_workbook\\nimport statistics\\nfrom sklearn.preprocessing import PolynomialFeatures\\nimport cv2\\nfrom sklearn.preprocessing import MinMaxScaler\\nfrom sklearn.linear_model import LinearRegression\\nimport plotly as py\\nfrom pathlib import Path\\nfrom sklearn.linear_model import LogisticRegression\\nimport plotly.express as px\\nimport statsmodels.api as sm\\nimport tensorflow as tf\\nfrom sklearn.linear_model import Lasso\\nimport textblob\\nimport lightgbm as lgb'); }\n",
              "    "
            ]
          },
          "metadata": {}
        },
        {
          "output_type": "display_data",
          "data": {
            "text/plain": [
              "<IPython.core.display.Javascript object>"
            ],
            "application/javascript": [
              "\n",
              "        if (window._pyforest_update_imports_cell) { window._pyforest_update_imports_cell('from sklearn.model_selection import KFold\\nfrom sklearn.feature_extraction.text import TfidfVectorizer\\nimport nltk\\nfrom sklearn.ensemble import GradientBoostingRegressor\\nfrom sklearn.linear_model import ElasticNetCV\\nfrom sklearn.cluster import KMeans\\nimport bokeh\\nfrom PIL import Image\\nfrom sklearn.preprocessing import LabelEncoder\\nfrom sklearn.preprocessing import OneHotEncoder\\nfrom scipy import signal as sg\\nimport pandas as pd\\nimport matplotlib as mpl\\nfrom sklearn import svm\\nimport sys\\nfrom scipy import stats\\nimport altair as alt\\nfrom sklearn.model_selection import train_test_split\\nfrom sklearn.linear_model import ElasticNet\\nimport seaborn as sns\\nfrom sklearn.preprocessing import StandardScaler\\nimport torch\\nfrom sklearn.model_selection import cross_val_score\\nimport numpy as np\\nfrom sklearn import metrics\\nimport gensim\\nimport matplotlib.pyplot as plt\\nimport tqdm\\nimport sklearn\\nimport pydot\\nfrom sklearn.decomposition import PCA\\nfrom sklearn.ensemble import GradientBoostingClassifier\\nimport os\\nimport fastai\\nfrom statsmodels.tsa.arima_model import ARIMA\\nfrom sklearn.manifold import TSNE\\nimport xgboost as xgb\\nfrom sklearn.linear_model import LassoCV\\nimport pickle\\nimport re\\nfrom sklearn.model_selection import GridSearchCV\\nimport skimage\\nimport imutils\\nfrom sklearn.feature_extraction.text import CountVectorizer\\nimport spacy\\nfrom xlrd import open_workbook\\nfrom openpyxl import load_workbook\\nimport statistics\\nfrom sklearn.preprocessing import PolynomialFeatures\\nimport cv2\\nfrom sklearn.preprocessing import MinMaxScaler\\nfrom sklearn.linear_model import LinearRegression\\nimport plotly as py\\nfrom pathlib import Path\\nfrom sklearn.linear_model import LogisticRegression\\nimport plotly.express as px\\nimport statsmodels.api as sm\\nimport tensorflow as tf\\nfrom sklearn.linear_model import Lasso\\nimport textblob\\nimport lightgbm as lgb'); }\n",
              "    "
            ]
          },
          "metadata": {}
        },
        {
          "output_type": "display_data",
          "data": {
            "text/plain": [
              "<IPython.core.display.Javascript object>"
            ],
            "application/javascript": [
              "\n",
              "        if (window._pyforest_update_imports_cell) { window._pyforest_update_imports_cell('from sklearn.model_selection import KFold\\nfrom sklearn.feature_extraction.text import TfidfVectorizer\\nimport nltk\\nfrom sklearn.ensemble import GradientBoostingRegressor\\nfrom sklearn.linear_model import ElasticNetCV\\nfrom sklearn.cluster import KMeans\\nimport bokeh\\nfrom PIL import Image\\nfrom sklearn.preprocessing import LabelEncoder\\nfrom sklearn.preprocessing import OneHotEncoder\\nfrom scipy import signal as sg\\nimport pandas as pd\\nimport matplotlib as mpl\\nfrom sklearn import svm\\nimport sys\\nfrom scipy import stats\\nimport altair as alt\\nfrom sklearn.model_selection import train_test_split\\nfrom sklearn.linear_model import ElasticNet\\nimport seaborn as sns\\nfrom sklearn.preprocessing import StandardScaler\\nimport torch\\nfrom sklearn.model_selection import cross_val_score\\nimport numpy as np\\nfrom sklearn import metrics\\nimport gensim\\nimport matplotlib.pyplot as plt\\nimport tqdm\\nimport sklearn\\nimport pydot\\nfrom sklearn.decomposition import PCA\\nfrom sklearn.ensemble import GradientBoostingClassifier\\nimport os\\nimport fastai\\nfrom statsmodels.tsa.arima_model import ARIMA\\nfrom sklearn.manifold import TSNE\\nimport xgboost as xgb\\nfrom sklearn.linear_model import LassoCV\\nimport pickle\\nimport re\\nfrom sklearn.model_selection import GridSearchCV\\nimport skimage\\nimport imutils\\nfrom sklearn.feature_extraction.text import CountVectorizer\\nimport spacy\\nfrom xlrd import open_workbook\\nfrom openpyxl import load_workbook\\nimport statistics\\nfrom sklearn.preprocessing import PolynomialFeatures\\nimport cv2\\nfrom sklearn.preprocessing import MinMaxScaler\\nfrom sklearn.linear_model import LinearRegression\\nimport plotly as py\\nfrom pathlib import Path\\nfrom sklearn.linear_model import LogisticRegression\\nimport plotly.express as px\\nimport statsmodels.api as sm\\nimport tensorflow as tf\\nfrom sklearn.linear_model import Lasso\\nimport textblob\\nimport lightgbm as lgb'); }\n",
              "    "
            ]
          },
          "metadata": {}
        },
        {
          "output_type": "display_data",
          "data": {
            "text/plain": [
              "<Figure size 432x288 with 1 Axes>"
            ],
            "image/png": "[encoded data removed]"
          },
          "metadata": {
            "needs_background": "light"
          }
        },
        {
          "output_type": "display_data",
          "data": {
            "text/plain": [
              "<IPython.core.display.Javascript object>"
            ],
            "application/javascript": [
              "\n",
              "        if (window._pyforest_update_imports_cell) { window._pyforest_update_imports_cell('from sklearn.model_selection import KFold\\nfrom sklearn.feature_extraction.text import TfidfVectorizer\\nimport nltk\\nfrom sklearn.ensemble import GradientBoostingRegressor\\nfrom sklearn.linear_model import ElasticNetCV\\nfrom sklearn.cluster import KMeans\\nimport bokeh\\nfrom PIL import Image\\nfrom sklearn.preprocessing import LabelEncoder\\nfrom sklearn.preprocessing import OneHotEncoder\\nfrom scipy import signal as sg\\nimport pandas as pd\\nimport matplotlib as mpl\\nfrom sklearn import svm\\nimport sys\\nfrom scipy import stats\\nimport altair as alt\\nfrom sklearn.model_selection import train_test_split\\nfrom sklearn.linear_model import ElasticNet\\nimport seaborn as sns\\nfrom sklearn.preprocessing import StandardScaler\\nimport torch\\nfrom sklearn.model_selection import cross_val_score\\nimport numpy as np\\nfrom sklearn import metrics\\nimport gensim\\nimport matplotlib.pyplot as plt\\nimport tqdm\\nimport sklearn\\nimport pydot\\nfrom sklearn.decomposition import PCA\\nfrom sklearn.ensemble import GradientBoostingClassifier\\nimport os\\nimport fastai\\nfrom statsmodels.tsa.arima_model import ARIMA\\nfrom sklearn.manifold import TSNE\\nimport xgboost as xgb\\nfrom sklearn.linear_model import LassoCV\\nimport pickle\\nimport re\\nfrom sklearn.model_selection import GridSearchCV\\nimport skimage\\nimport imutils\\nfrom sklearn.feature_extraction.text import CountVectorizer\\nimport spacy\\nfrom xlrd import open_workbook\\nfrom openpyxl import load_workbook\\nimport statistics\\nfrom sklearn.preprocessing import PolynomialFeatures\\nimport cv2\\nfrom sklearn.preprocessing import MinMaxScaler\\nfrom sklearn.linear_model import LinearRegression\\nimport plotly as py\\nfrom pathlib import Path\\nfrom sklearn.linear_model import LogisticRegression\\nimport plotly.express as px\\nimport statsmodels.api as sm\\nimport tensorflow as tf\\nfrom sklearn.linear_model import Lasso\\nimport textblob\\nimport lightgbm as lgb'); }\n",
              "    "
            ]
          },
          "metadata": {}
        },
        {
          "output_type": "display_data",
          "data": {
            "text/plain": [
              "<IPython.core.display.Javascript object>"
            ],
            "application/javascript": [
              "\n",
              "        if (window._pyforest_update_imports_cell) { window._pyforest_update_imports_cell('from sklearn.model_selection import KFold\\nfrom sklearn.feature_extraction.text import TfidfVectorizer\\nimport nltk\\nfrom sklearn.ensemble import GradientBoostingRegressor\\nfrom sklearn.linear_model import ElasticNetCV\\nfrom sklearn.cluster import KMeans\\nimport bokeh\\nfrom PIL import Image\\nfrom sklearn.preprocessing import LabelEncoder\\nfrom sklearn.preprocessing import OneHotEncoder\\nfrom scipy import signal as sg\\nimport pandas as pd\\nimport matplotlib as mpl\\nfrom sklearn import svm\\nimport sys\\nfrom scipy import stats\\nimport altair as alt\\nfrom sklearn.model_selection import train_test_split\\nfrom sklearn.linear_model import ElasticNet\\nimport seaborn as sns\\nfrom sklearn.preprocessing import StandardScaler\\nimport torch\\nfrom sklearn.model_selection import cross_val_score\\nimport numpy as np\\nfrom sklearn import metrics\\nimport gensim\\nimport matplotlib.pyplot as plt\\nimport tqdm\\nimport sklearn\\nimport pydot\\nfrom sklearn.decomposition import PCA\\nfrom sklearn.ensemble import GradientBoostingClassifier\\nimport os\\nimport fastai\\nfrom statsmodels.tsa.arima_model import ARIMA\\nfrom sklearn.manifold import TSNE\\nimport xgboost as xgb\\nfrom sklearn.linear_model import LassoCV\\nimport pickle\\nimport re\\nfrom sklearn.model_selection import GridSearchCV\\nimport skimage\\nimport imutils\\nfrom sklearn.feature_extraction.text import CountVectorizer\\nimport spacy\\nfrom xlrd import open_workbook\\nfrom openpyxl import load_workbook\\nimport statistics\\nfrom sklearn.preprocessing import PolynomialFeatures\\nimport cv2\\nfrom sklearn.preprocessing import MinMaxScaler\\nfrom sklearn.linear_model import LinearRegression\\nimport plotly as py\\nfrom pathlib import Path\\nfrom sklearn.linear_model import LogisticRegression\\nimport plotly.express as px\\nimport statsmodels.api as sm\\nimport tensorflow as tf\\nfrom sklearn.linear_model import Lasso\\nimport textblob\\nimport lightgbm as lgb'); }\n",
              "    "
            ]
          },
          "metadata": {}
        },
        {
          "output_type": "display_data",
          "data": {
            "text/plain": [
              "<IPython.core.display.Javascript object>"
            ],
            "application/javascript": [
              "\n",
              "        if (window._pyforest_update_imports_cell) { window._pyforest_update_imports_cell('from sklearn.model_selection import KFold\\nfrom sklearn.feature_extraction.text import TfidfVectorizer\\nimport nltk\\nfrom sklearn.ensemble import GradientBoostingRegressor\\nfrom sklearn.linear_model import ElasticNetCV\\nfrom sklearn.cluster import KMeans\\nimport bokeh\\nfrom PIL import Image\\nfrom sklearn.preprocessing import LabelEncoder\\nfrom sklearn.preprocessing import OneHotEncoder\\nfrom scipy import signal as sg\\nimport pandas as pd\\nimport matplotlib as mpl\\nfrom sklearn import svm\\nimport sys\\nfrom scipy import stats\\nimport altair as alt\\nfrom sklearn.model_selection import train_test_split\\nfrom sklearn.linear_model import ElasticNet\\nimport seaborn as sns\\nfrom sklearn.preprocessing import StandardScaler\\nimport torch\\nfrom sklearn.model_selection import cross_val_score\\nimport numpy as np\\nfrom sklearn import metrics\\nimport gensim\\nimport matplotlib.pyplot as plt\\nimport tqdm\\nimport sklearn\\nimport pydot\\nfrom sklearn.decomposition import PCA\\nfrom sklearn.ensemble import GradientBoostingClassifier\\nimport os\\nimport fastai\\nfrom statsmodels.tsa.arima_model import ARIMA\\nfrom sklearn.manifold import TSNE\\nimport xgboost as xgb\\nfrom sklearn.linear_model import LassoCV\\nimport pickle\\nimport re\\nfrom sklearn.model_selection import GridSearchCV\\nimport skimage\\nimport imutils\\nfrom sklearn.feature_extraction.text import CountVectorizer\\nimport spacy\\nfrom xlrd import open_workbook\\nfrom openpyxl import load_workbook\\nimport statistics\\nfrom sklearn.preprocessing import PolynomialFeatures\\nimport cv2\\nfrom sklearn.preprocessing import MinMaxScaler\\nfrom sklearn.linear_model import LinearRegression\\nimport plotly as py\\nfrom pathlib import Path\\nfrom sklearn.linear_model import LogisticRegression\\nimport plotly.express as px\\nimport statsmodels.api as sm\\nimport tensorflow as tf\\nfrom sklearn.linear_model import Lasso\\nimport textblob\\nimport lightgbm as lgb'); }\n",
              "    "
            ]
          },
          "metadata": {}
        },
        {
          "output_type": "display_data",
          "data": {
            "text/plain": [
              "<Figure size 432x288 with 1 Axes>"
            ],
            "image/png": "[encoded data removed]"
          },
          "metadata": {
            "needs_background": "light"
          }
        }
      ]
    },
    {
      "cell_type": "code",
      "source": [
        "x=dataset.drop(\"Churn\",axis=1)"
      ],
      "metadata": {
        "id": "FOqHWRuYC4o4"
      },
      "execution_count": 456,
      "outputs": []
    },
    {
      "cell_type": "code",
      "source": [
        "y=dataset[\"Churn\"]"
      ],
      "metadata": {
        "id": "MVsHHNGBDKON"
      },
      "execution_count": 457,
      "outputs": []
    },
    {
      "cell_type": "code",
      "source": [
        "from sklearn.preprocessing import StandardScaler"
      ],
      "metadata": {
        "id": "yqJ2HH6kDLp9"
      },
      "execution_count": 458,
      "outputs": []
    },
    {
      "cell_type": "code",
      "source": [
        "ss=StandardScaler()"
      ],
      "metadata": {
        "id": "y-D08FtkDTDp"
      },
      "execution_count": 459,
      "outputs": []
    },
    {
      "cell_type": "code",
      "source": [
        "x=ss.fit_transform(x)"
      ],
      "metadata": {
        "id": "oXFGRa4xDVhr"
      },
      "execution_count": 460,
      "outputs": []
    },
    {
      "cell_type": "code",
      "source": [
        "from sklearn.model_selection import train_test_split\n",
        "x_train,x_test,y_train,y_test=train_test_split(x,y,test_size=0.80,random_state=42)\n",
        "x_train.shape"
      ],
      "metadata": {
        "colab": {
          "base_uri": "https://localhost:8080/"
        },
        "id": "1CBc0hjHDczl",
        "outputId": "85e33062-c7b5-4d8a-a3b6-02c20cc53fe5"
      },
      "execution_count": 461,
      "outputs": [
        {
          "output_type": "execute_result",
          "data": {
            "text/plain": [
              "(1408, 20)"
            ]
          },
          "metadata": {},
          "execution_count": 461
        }
      ]
    },
    {
      "cell_type": "code",
      "source": [
        "import tensorflow as tf\n",
        "from tensorflow import keras\n",
        "\n",
        "\n",
        "model = keras.Sequential([\n",
        "    keras.layers.Dense(20, input_shape=(20,), activation='relu'),\n",
        "    keras.layers.Dense(15, activation='relu'),\n",
        "    keras.layers.Dense(1, activation='sigmoid')\n",
        "])\n",
        "\n",
        "model.compile(optimizer='adam',\n",
        "              loss='binary_crossentropy',\n",
        "              metrics=['accuracy'])\n",
        "\n",
        "model.fit(x_train, y_train, epochs=100)"
      ],
      "metadata": {
        "colab": {
          "base_uri": "https://localhost:8080/"
        },
        "id": "N8CQw2y9EEPh",
        "outputId": "76225c9a-d872-405d-d935-90fe9228eaef"
      },
      "execution_count": 462,
      "outputs": [
        {
          "output_type": "stream",
          "name": "stdout",
          "text": [
            "Epoch 1/100\n",
            "44/44 [==============================] - 1s 2ms/step - loss: nan - accuracy: 0.6967\n",
            "Epoch 2/100\n",
            "44/44 [==============================] - 0s 2ms/step - loss: nan - accuracy: 0.7472\n",
            "Epoch 3/100\n",
            "44/44 [==============================] - 0s 2ms/step - loss: nan - accuracy: 0.7472\n",
            "Epoch 4/100\n",
            "44/44 [==============================] - 0s 2ms/step - loss: nan - accuracy: 0.7472\n",
            "Epoch 5/100\n",
            "44/44 [==============================] - 0s 2ms/step - loss: nan - accuracy: 0.7472\n",
            "Epoch 6/100\n",
            "44/44 [==============================] - 0s 3ms/step - loss: nan - accuracy: 0.7472\n",
            "Epoch 7/100\n",
            "44/44 [==============================] - 0s 3ms/step - loss: nan - accuracy: 0.7472\n",
            "Epoch 8/100\n",
            "44/44 [==============================] - 0s 3ms/step - loss: nan - accuracy: 0.7472\n",
            "Epoch 9/100\n",
            "44/44 [==============================] - 0s 3ms/step - loss: nan - accuracy: 0.7472\n",
            "Epoch 10/100\n",
            "44/44 [==============================] - 0s 2ms/step - loss: nan - accuracy: 0.7472\n",
            "Epoch 11/100\n",
            "44/44 [==============================] - 0s 2ms/step - loss: nan - accuracy: 0.7472\n",
            "Epoch 12/100\n",
            "44/44 [==============================] - 0s 2ms/step - loss: nan - accuracy: 0.7472\n",
            "Epoch 13/100\n",
            "44/44 [==============================] - 0s 2ms/step - loss: nan - accuracy: 0.7472\n",
            "Epoch 14/100\n",
            "44/44 [==============================] - 0s 2ms/step - loss: nan - accuracy: 0.7472\n",
            "Epoch 15/100\n",
            "44/44 [==============================] - 0s 2ms/step - loss: nan - accuracy: 0.7472\n",
            "Epoch 16/100\n",
            "44/44 [==============================] - 0s 2ms/step - loss: nan - accuracy: 0.7472\n",
            "Epoch 17/100\n",
            "44/44 [==============================] - 0s 2ms/step - loss: nan - accuracy: 0.7472\n",
            "Epoch 18/100\n",
            "44/44 [==============================] - 0s 2ms/step - loss: nan - accuracy: 0.7472\n",
            "Epoch 19/100\n",
            "44/44 [==============================] - 0s 2ms/step - loss: nan - accuracy: 0.7472\n",
            "Epoch 20/100\n",
            "44/44 [==============================] - 0s 2ms/step - loss: nan - accuracy: 0.7472\n",
            "Epoch 21/100\n",
            "44/44 [==============================] - 0s 2ms/step - loss: nan - accuracy: 0.7472\n",
            "Epoch 22/100\n",
            "44/44 [==============================] - 0s 2ms/step - loss: nan - accuracy: 0.7472\n",
            "Epoch 23/100\n",
            "44/44 [==============================] - 0s 2ms/step - loss: nan - accuracy: 0.7472\n",
            "Epoch 24/100\n",
            "44/44 [==============================] - 0s 2ms/step - loss: nan - accuracy: 0.7472\n",
            "Epoch 25/100\n",
            "44/44 [==============================] - 0s 3ms/step - loss: nan - accuracy: 0.7472\n",
            "Epoch 26/100\n",
            "44/44 [==============================] - 0s 3ms/step - loss: nan - accuracy: 0.7472\n",
            "Epoch 27/100\n",
            "44/44 [==============================] - 0s 3ms/step - loss: nan - accuracy: 0.7472\n",
            "Epoch 28/100\n",
            "44/44 [==============================] - 0s 2ms/step - loss: nan - accuracy: 0.7472\n",
            "Epoch 29/100\n",
            "44/44 [==============================] - 0s 2ms/step - loss: nan - accuracy: 0.7472\n",
            "Epoch 30/100\n",
            "44/44 [==============================] - 0s 2ms/step - loss: nan - accuracy: 0.7472\n",
            "Epoch 31/100\n",
            "44/44 [==============================] - 0s 2ms/step - loss: nan - accuracy: 0.7472\n",
            "Epoch 32/100\n",
            "44/44 [==============================] - 0s 2ms/step - loss: nan - accuracy: 0.7472\n",
            "Epoch 33/100\n",
            "44/44 [==============================] - 0s 2ms/step - loss: nan - accuracy: 0.7472\n",
            "Epoch 34/100\n",
            "44/44 [==============================] - 0s 2ms/step - loss: nan - accuracy: 0.7472\n",
            "Epoch 35/100\n",
            "44/44 [==============================] - 0s 2ms/step - loss: nan - accuracy: 0.7472\n",
            "Epoch 36/100\n",
            "44/44 [==============================] - 0s 2ms/step - loss: nan - accuracy: 0.7472\n",
            "Epoch 37/100\n",
            "44/44 [==============================] - 0s 2ms/step - loss: nan - accuracy: 0.7472\n",
            "Epoch 38/100\n",
            "44/44 [==============================] - 0s 2ms/step - loss: nan - accuracy: 0.7472\n",
            "Epoch 39/100\n",
            "44/44 [==============================] - 0s 2ms/step - loss: nan - accuracy: 0.7472\n",
            "Epoch 40/100\n",
            "44/44 [==============================] - 0s 2ms/step - loss: nan - accuracy: 0.7472\n",
            "Epoch 41/100\n",
            "44/44 [==============================] - 0s 2ms/step - loss: nan - accuracy: 0.7472\n",
            "Epoch 42/100\n",
            "44/44 [==============================] - 0s 2ms/step - loss: nan - accuracy: 0.7472\n",
            "Epoch 43/100\n",
            "44/44 [==============================] - 0s 2ms/step - loss: nan - accuracy: 0.7472\n",
            "Epoch 44/100\n",
            "44/44 [==============================] - 0s 2ms/step - loss: nan - accuracy: 0.7472\n",
            "Epoch 45/100\n",
            "44/44 [==============================] - 0s 2ms/step - loss: nan - accuracy: 0.7472\n",
            "Epoch 46/100\n",
            "44/44 [==============================] - 0s 2ms/step - loss: nan - accuracy: 0.7472\n",
            "Epoch 47/100\n",
            "44/44 [==============================] - 0s 2ms/step - loss: nan - accuracy: 0.7472\n",
            "Epoch 48/100\n",
            "44/44 [==============================] - 0s 2ms/step - loss: nan - accuracy: 0.7472\n",
            "Epoch 49/100\n",
            "44/44 [==============================] - 0s 2ms/step - loss: nan - accuracy: 0.7472\n",
            "Epoch 50/100\n",
            "44/44 [==============================] - 0s 2ms/step - loss: nan - accuracy: 0.7472\n",
            "Epoch 51/100\n",
            "44/44 [==============================] - 0s 2ms/step - loss: nan - accuracy: 0.7472\n",
            "Epoch 52/100\n",
            "44/44 [==============================] - 0s 2ms/step - loss: nan - accuracy: 0.7472\n",
            "Epoch 53/100\n",
            "44/44 [==============================] - 0s 2ms/step - loss: nan - accuracy: 0.7472\n",
            "Epoch 54/100\n",
            "44/44 [==============================] - 0s 2ms/step - loss: nan - accuracy: 0.7472\n",
            "Epoch 55/100\n",
            "44/44 [==============================] - 0s 2ms/step - loss: nan - accuracy: 0.7472\n",
            "Epoch 56/100\n",
            "44/44 [==============================] - 0s 2ms/step - loss: nan - accuracy: 0.7472\n",
            "Epoch 57/100\n",
            "44/44 [==============================] - 0s 2ms/step - loss: nan - accuracy: 0.7472\n",
            "Epoch 58/100\n",
            "44/44 [==============================] - 0s 2ms/step - loss: nan - accuracy: 0.7472\n",
            "Epoch 59/100\n",
            "44/44 [==============================] - 0s 2ms/step - loss: nan - accuracy: 0.7472\n",
            "Epoch 60/100\n",
            "44/44 [==============================] - 0s 4ms/step - loss: nan - accuracy: 0.7472\n",
            "Epoch 61/100\n",
            "44/44 [==============================] - 0s 3ms/step - loss: nan - accuracy: 0.7472\n",
            "Epoch 62/100\n",
            "44/44 [==============================] - 0s 3ms/step - loss: nan - accuracy: 0.7472\n",
            "Epoch 63/100\n",
            "44/44 [==============================] - 0s 2ms/step - loss: nan - accuracy: 0.7472\n",
            "Epoch 64/100\n",
            "44/44 [==============================] - 0s 4ms/step - loss: nan - accuracy: 0.7472\n",
            "Epoch 65/100\n",
            "44/44 [==============================] - 0s 3ms/step - loss: nan - accuracy: 0.7472\n",
            "Epoch 66/100\n",
            "44/44 [==============================] - 0s 3ms/step - loss: nan - accuracy: 0.7472\n",
            "Epoch 67/100\n",
            "44/44 [==============================] - 0s 3ms/step - loss: nan - accuracy: 0.7472\n",
            "Epoch 68/100\n",
            "44/44 [==============================] - 0s 5ms/step - loss: nan - accuracy: 0.7472\n",
            "Epoch 69/100\n",
            "44/44 [==============================] - 0s 4ms/step - loss: nan - accuracy: 0.7472\n",
            "Epoch 70/100\n",
            "44/44 [==============================] - 0s 3ms/step - loss: nan - accuracy: 0.7472\n",
            "Epoch 71/100\n",
            "44/44 [==============================] - 0s 3ms/step - loss: nan - accuracy: 0.7472\n",
            "Epoch 72/100\n",
            "44/44 [==============================] - 0s 4ms/step - loss: nan - accuracy: 0.7472\n",
            "Epoch 73/100\n",
            "44/44 [==============================] - 0s 3ms/step - loss: nan - accuracy: 0.7472\n",
            "Epoch 74/100\n",
            "44/44 [==============================] - 0s 3ms/step - loss: nan - accuracy: 0.7472\n",
            "Epoch 75/100\n",
            "44/44 [==============================] - 0s 3ms/step - loss: nan - accuracy: 0.7472\n",
            "Epoch 76/100\n",
            "44/44 [==============================] - 0s 4ms/step - loss: nan - accuracy: 0.7472\n",
            "Epoch 77/100\n",
            "44/44 [==============================] - 0s 4ms/step - loss: nan - accuracy: 0.7472\n",
            "Epoch 78/100\n",
            "44/44 [==============================] - 0s 3ms/step - loss: nan - accuracy: 0.7472\n",
            "Epoch 79/100\n",
            "44/44 [==============================] - 0s 3ms/step - loss: nan - accuracy: 0.7472\n",
            "Epoch 80/100\n",
            "44/44 [==============================] - 0s 3ms/step - loss: nan - accuracy: 0.7472\n",
            "Epoch 81/100\n",
            "44/44 [==============================] - 0s 3ms/step - loss: nan - accuracy: 0.7472\n",
            "Epoch 82/100\n",
            "44/44 [==============================] - 0s 5ms/step - loss: nan - accuracy: 0.7472\n",
            "Epoch 83/100\n",
            "44/44 [==============================] - 0s 4ms/step - loss: nan - accuracy: 0.7472\n",
            "Epoch 84/100\n",
            "44/44 [==============================] - 0s 3ms/step - loss: nan - accuracy: 0.7472\n",
            "Epoch 85/100\n",
            "44/44 [==============================] - 0s 2ms/step - loss: nan - accuracy: 0.7472\n",
            "Epoch 86/100\n",
            "44/44 [==============================] - 0s 3ms/step - loss: nan - accuracy: 0.7472\n",
            "Epoch 87/100\n",
            "44/44 [==============================] - 0s 3ms/step - loss: nan - accuracy: 0.7472\n",
            "Epoch 88/100\n",
            "44/44 [==============================] - 0s 4ms/step - loss: nan - accuracy: 0.7472\n",
            "Epoch 89/100\n",
            "44/44 [==============================] - 0s 3ms/step - loss: nan - accuracy: 0.7472\n",
            "Epoch 90/100\n",
            "44/44 [==============================] - 0s 4ms/step - loss: nan - accuracy: 0.7472\n",
            "Epoch 91/100\n",
            "44/44 [==============================] - 0s 6ms/step - loss: nan - accuracy: 0.7472\n",
            "Epoch 92/100\n",
            "44/44 [==============================] - 0s 4ms/step - loss: nan - accuracy: 0.7472\n",
            "Epoch 93/100\n",
            "44/44 [==============================] - 0s 4ms/step - loss: nan - accuracy: 0.7472\n",
            "Epoch 94/100\n",
            "44/44 [==============================] - 0s 4ms/step - loss: nan - accuracy: 0.7472\n",
            "Epoch 95/100\n",
            "44/44 [==============================] - 0s 3ms/step - loss: nan - accuracy: 0.7472\n",
            "Epoch 96/100\n",
            "44/44 [==============================] - 0s 4ms/step - loss: nan - accuracy: 0.7472\n",
            "Epoch 97/100\n",
            "44/44 [==============================] - 0s 5ms/step - loss: nan - accuracy: 0.7472\n",
            "Epoch 98/100\n",
            "44/44 [==============================] - 0s 3ms/step - loss: nan - accuracy: 0.7472\n",
            "Epoch 99/100\n",
            "44/44 [==============================] - 0s 4ms/step - loss: nan - accuracy: 0.7472\n",
            "Epoch 100/100\n",
            "44/44 [==============================] - 0s 3ms/step - loss: nan - accuracy: 0.7472\n"
          ]
        },
        {
          "output_type": "execute_result",
          "data": {
            "text/plain": [
              "<keras.callbacks.History at 0x7f0e2ece5990>"
            ]
          },
          "metadata": {},
          "execution_count": 462
        }
      ]
    },
    {
      "cell_type": "code",
      "source": [
        "model.evaluate(x_test, y_test)"
      ],
      "metadata": {
        "colab": {
          "base_uri": "https://localhost:8080/"
        },
        "id": "NrSnkq2WEiEz",
        "outputId": "e4ae72a7-8fd0-4962-9f5f-c75b5a595b54"
      },
      "execution_count": 463,
      "outputs": [
        {
          "output_type": "stream",
          "name": "stdout",
          "text": [
            "177/177 [==============================] - 1s 2ms/step - loss: nan - accuracy: 0.7315\n"
          ]
        },
        {
          "output_type": "execute_result",
          "data": {
            "text/plain": [
              "[nan, 0.7314995527267456]"
            ]
          },
          "metadata": {},
          "execution_count": 463
        }
      ]
    },
    {
      "cell_type": "code",
      "source": [
        "y_pred=model.predict(x_test)\n",
        "y_pred[:5]"
      ],
      "metadata": {
        "colab": {
          "base_uri": "https://localhost:8080/"
        },
        "id": "3i623YRbE9WJ",
        "outputId": "dfaf386f-31aa-4f72-88f0-2cec165e23d4"
      },
      "execution_count": 464,
      "outputs": [
        {
          "output_type": "execute_result",
          "data": {
            "text/plain": [
              "array([[nan],\n",
              "       [nan],\n",
              "       [nan],\n",
              "       [nan],\n",
              "       [nan]], dtype=float32)"
            ]
          },
          "metadata": {},
          "execution_count": 464
        }
      ]
    },
    {
      "cell_type": "code",
      "source": [
        "yp = []\n",
        "for element in y_pred:\n",
        "    if element > 0.5:\n",
        "        yp.append(1)\n",
        "    else:\n",
        "        yp.append(0)"
      ],
      "metadata": {
        "id": "fp4fa-YJJiKw"
      },
      "execution_count": 466,
      "outputs": []
    },
    {
      "cell_type": "code",
      "source": [
        "from sklearn.metrics import confusion_matrix , classification_report\n",
        "\n",
        "print(classification_report(y_test,yp))"
      ],
      "metadata": {
        "colab": {
          "base_uri": "https://localhost:8080/"
        },
        "id": "A28-sm3bJtDB",
        "outputId": "9f191e17-dffd-4ccb-ef26-d09eb09221d2"
      },
      "execution_count": 467,
      "outputs": [
        {
          "output_type": "stream",
          "name": "stdout",
          "text": [
            "              precision    recall  f1-score   support\n",
            "\n",
            "           0       0.73      1.00      0.84      4122\n",
            "           1       0.00      0.00      0.00      1513\n",
            "\n",
            "    accuracy                           0.73      5635\n",
            "   macro avg       0.37      0.50      0.42      5635\n",
            "weighted avg       0.54      0.73      0.62      5635\n",
            "\n"
          ]
        },
        {
          "output_type": "stream",
          "name": "stderr",
          "text": [
            "/usr/local/lib/python3.7/dist-packages/sklearn/metrics/_classification.py:1318: UndefinedMetricWarning: Precision and F-score are ill-defined and being set to 0.0 in labels with no predicted samples. Use `zero_division` parameter to control this behavior.\n",
            "  _warn_prf(average, modifier, msg_start, len(result))\n",
            "/usr/local/lib/python3.7/dist-packages/sklearn/metrics/_classification.py:1318: UndefinedMetricWarning: Precision and F-score are ill-defined and being set to 0.0 in labels with no predicted samples. Use `zero_division` parameter to control this behavior.\n",
            "  _warn_prf(average, modifier, msg_start, len(result))\n",
            "/usr/local/lib/python3.7/dist-packages/sklearn/metrics/_classification.py:1318: UndefinedMetricWarning: Precision and F-score are ill-defined and being set to 0.0 in labels with no predicted samples. Use `zero_division` parameter to control this behavior.\n",
            "  _warn_prf(average, modifier, msg_start, len(result))\n"
          ]
        }
      ]
    }
  ]
}